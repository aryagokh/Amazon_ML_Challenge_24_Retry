{
 "cells": [
  {
   "cell_type": "markdown",
   "id": "643e230c",
   "metadata": {
    "papermill": {
     "duration": 0.005963,
     "end_time": "2025-01-18T13:33:36.557527",
     "exception": false,
     "start_time": "2025-01-18T13:33:36.551564",
     "status": "completed"
    },
    "tags": []
   },
   "source": [
    "# Imports"
   ]
  },
  {
   "cell_type": "code",
   "execution_count": 1,
   "id": "c26729f4",
   "metadata": {
    "_cell_guid": "b1076dfc-b9ad-4769-8c92-a6c4dae69d19",
    "_uuid": "8f2839f25d086af736a60e9eeb907d3b93b6e0e5",
    "execution": {
     "iopub.execute_input": "2025-01-18T13:33:36.568934Z",
     "iopub.status.busy": "2025-01-18T13:33:36.568704Z",
     "iopub.status.idle": "2025-01-18T13:33:43.900606Z",
     "shell.execute_reply": "2025-01-18T13:33:43.899909Z"
    },
    "papermill": {
     "duration": 7.339251,
     "end_time": "2025-01-18T13:33:43.902202",
     "exception": false,
     "start_time": "2025-01-18T13:33:36.562951",
     "status": "completed"
    },
    "tags": []
   },
   "outputs": [],
   "source": [
    "import pandas as pd\n",
    "import numpy as np\n",
    "import matplotlib.pyplot as plt\n",
    "import seaborn as sns\n",
    "\n",
    "import os\n",
    "import shutil\n",
    "import random\n",
    "import re\n",
    "\n",
    "from PIL import Image\n",
    "from tqdm import tqdm\n",
    "\n",
    "import torch\n",
    "from torch import nn, optim\n",
    "from torch.utils.data import Dataset, DataLoader\n",
    "import torchvision\n",
    "from torchvision import transforms\n",
    "\n",
    "from transformers import Pix2StructForConditionalGeneration, Pix2StructProcessor\n",
    "import inspect\n",
    "\n",
    "import warnings\n",
    "warnings.filterwarnings('ignore')"
   ]
  },
  {
   "cell_type": "code",
   "execution_count": 2,
   "id": "0a682d2d",
   "metadata": {
    "execution": {
     "iopub.execute_input": "2025-01-18T13:33:43.914332Z",
     "iopub.status.busy": "2025-01-18T13:33:43.913938Z",
     "iopub.status.idle": "2025-01-18T13:33:44.116946Z",
     "shell.execute_reply": "2025-01-18T13:33:44.116129Z"
    },
    "papermill": {
     "duration": 0.210355,
     "end_time": "2025-01-18T13:33:44.118315",
     "exception": false,
     "start_time": "2025-01-18T13:33:43.907960",
     "status": "completed"
    },
    "tags": []
   },
   "outputs": [
    {
     "data": {
      "text/html": [
       "<div>\n",
       "<style scoped>\n",
       "    .dataframe tbody tr th:only-of-type {\n",
       "        vertical-align: middle;\n",
       "    }\n",
       "\n",
       "    .dataframe tbody tr th {\n",
       "        vertical-align: top;\n",
       "    }\n",
       "\n",
       "    .dataframe thead th {\n",
       "        text-align: right;\n",
       "    }\n",
       "</style>\n",
       "<table border=\"1\" class=\"dataframe\">\n",
       "  <thead>\n",
       "    <tr style=\"text-align: right;\">\n",
       "      <th></th>\n",
       "      <th>entity_name</th>\n",
       "      <th>kaggle_image_path</th>\n",
       "      <th>entity_value</th>\n",
       "    </tr>\n",
       "  </thead>\n",
       "  <tbody>\n",
       "    <tr>\n",
       "      <th>0</th>\n",
       "      <td>item_weight</td>\n",
       "      <td>/kaggle/input/amazon-2024-100k-imgs/images/61X...</td>\n",
       "      <td>180 gram</td>\n",
       "    </tr>\n",
       "    <tr>\n",
       "      <th>1</th>\n",
       "      <td>width</td>\n",
       "      <td>/kaggle/input/amazon-2024-100k-imgs/images/51f...</td>\n",
       "      <td>61.0 centimetre</td>\n",
       "    </tr>\n",
       "    <tr>\n",
       "      <th>2</th>\n",
       "      <td>item_weight</td>\n",
       "      <td>/kaggle/input/amazon-2024-100k-imgs/images/416...</td>\n",
       "      <td>100.0 gram</td>\n",
       "    </tr>\n",
       "    <tr>\n",
       "      <th>3</th>\n",
       "      <td>item_weight</td>\n",
       "      <td>/kaggle/input/amazon-2024-100k-imgs/images/61g...</td>\n",
       "      <td>360.0 gram</td>\n",
       "    </tr>\n",
       "    <tr>\n",
       "      <th>4</th>\n",
       "      <td>width</td>\n",
       "      <td>/kaggle/input/amazon-2024-100k-imgs/images/61A...</td>\n",
       "      <td>5.2 centimetre</td>\n",
       "    </tr>\n",
       "  </tbody>\n",
       "</table>\n",
       "</div>"
      ],
      "text/plain": [
       "   entity_name                                  kaggle_image_path  \\\n",
       "0  item_weight  /kaggle/input/amazon-2024-100k-imgs/images/61X...   \n",
       "1        width  /kaggle/input/amazon-2024-100k-imgs/images/51f...   \n",
       "2  item_weight  /kaggle/input/amazon-2024-100k-imgs/images/416...   \n",
       "3  item_weight  /kaggle/input/amazon-2024-100k-imgs/images/61g...   \n",
       "4        width  /kaggle/input/amazon-2024-100k-imgs/images/61A...   \n",
       "\n",
       "      entity_value  \n",
       "0         180 gram  \n",
       "1  61.0 centimetre  \n",
       "2       100.0 gram  \n",
       "3       360.0 gram  \n",
       "4   5.2 centimetre  "
      ]
     },
     "execution_count": 2,
     "metadata": {},
     "output_type": "execute_result"
    }
   ],
   "source": [
    "train_data = pd.read_csv('/kaggle/input/amazon-ml2024-100k-csvs/train_stratified.csv')\n",
    "train_data.head()"
   ]
  },
  {
   "cell_type": "code",
   "execution_count": 3,
   "id": "4c15bab5",
   "metadata": {
    "execution": {
     "iopub.execute_input": "2025-01-18T13:33:44.130484Z",
     "iopub.status.busy": "2025-01-18T13:33:44.130220Z",
     "iopub.status.idle": "2025-01-18T13:33:44.187946Z",
     "shell.execute_reply": "2025-01-18T13:33:44.187283Z"
    },
    "papermill": {
     "duration": 0.065006,
     "end_time": "2025-01-18T13:33:44.189152",
     "exception": false,
     "start_time": "2025-01-18T13:33:44.124146",
     "status": "completed"
    },
    "tags": []
   },
   "outputs": [
    {
     "data": {
      "text/html": [
       "<div>\n",
       "<style scoped>\n",
       "    .dataframe tbody tr th:only-of-type {\n",
       "        vertical-align: middle;\n",
       "    }\n",
       "\n",
       "    .dataframe tbody tr th {\n",
       "        vertical-align: top;\n",
       "    }\n",
       "\n",
       "    .dataframe thead th {\n",
       "        text-align: right;\n",
       "    }\n",
       "</style>\n",
       "<table border=\"1\" class=\"dataframe\">\n",
       "  <thead>\n",
       "    <tr style=\"text-align: right;\">\n",
       "      <th></th>\n",
       "      <th>entity_name</th>\n",
       "      <th>kaggle_image_path</th>\n",
       "      <th>entity_value</th>\n",
       "    </tr>\n",
       "  </thead>\n",
       "  <tbody>\n",
       "    <tr>\n",
       "      <th>0</th>\n",
       "      <td>item_weight</td>\n",
       "      <td>/kaggle/input/amazon-2024-100k-imgs/images/514...</td>\n",
       "      <td>20.0 gram</td>\n",
       "    </tr>\n",
       "    <tr>\n",
       "      <th>1</th>\n",
       "      <td>item_weight</td>\n",
       "      <td>/kaggle/input/amazon-2024-100k-imgs/images/81k...</td>\n",
       "      <td>5.2 gram</td>\n",
       "    </tr>\n",
       "    <tr>\n",
       "      <th>2</th>\n",
       "      <td>item_weight</td>\n",
       "      <td>/kaggle/input/amazon-2024-100k-imgs/images/51T...</td>\n",
       "      <td>328.0 gram</td>\n",
       "    </tr>\n",
       "    <tr>\n",
       "      <th>3</th>\n",
       "      <td>depth</td>\n",
       "      <td>/kaggle/input/amazon-2024-100k-imgs/images/51r...</td>\n",
       "      <td>1.26 inch</td>\n",
       "    </tr>\n",
       "    <tr>\n",
       "      <th>4</th>\n",
       "      <td>height</td>\n",
       "      <td>/kaggle/input/amazon-2024-100k-imgs/images/51N...</td>\n",
       "      <td>40.0 centimetre</td>\n",
       "    </tr>\n",
       "  </tbody>\n",
       "</table>\n",
       "</div>"
      ],
      "text/plain": [
       "   entity_name                                  kaggle_image_path  \\\n",
       "0  item_weight  /kaggle/input/amazon-2024-100k-imgs/images/514...   \n",
       "1  item_weight  /kaggle/input/amazon-2024-100k-imgs/images/81k...   \n",
       "2  item_weight  /kaggle/input/amazon-2024-100k-imgs/images/51T...   \n",
       "3        depth  /kaggle/input/amazon-2024-100k-imgs/images/51r...   \n",
       "4       height  /kaggle/input/amazon-2024-100k-imgs/images/51N...   \n",
       "\n",
       "      entity_value  \n",
       "0        20.0 gram  \n",
       "1         5.2 gram  \n",
       "2       328.0 gram  \n",
       "3        1.26 inch  \n",
       "4  40.0 centimetre  "
      ]
     },
     "execution_count": 3,
     "metadata": {},
     "output_type": "execute_result"
    }
   ],
   "source": [
    "test_data = pd.read_csv('/kaggle/input/amazon-ml2024-100k-csvs/test_stratified.csv')\n",
    "test_data.head()"
   ]
  },
  {
   "cell_type": "code",
   "execution_count": 4,
   "id": "342d51ef",
   "metadata": {
    "execution": {
     "iopub.execute_input": "2025-01-18T13:33:44.201188Z",
     "iopub.status.busy": "2025-01-18T13:33:44.200928Z",
     "iopub.status.idle": "2025-01-18T13:33:44.218510Z",
     "shell.execute_reply": "2025-01-18T13:33:44.217828Z"
    },
    "papermill": {
     "duration": 0.024776,
     "end_time": "2025-01-18T13:33:44.219710",
     "exception": false,
     "start_time": "2025-01-18T13:33:44.194934",
     "status": "completed"
    },
    "tags": []
   },
   "outputs": [
    {
     "data": {
      "text/plain": [
       "(80000,\n",
       " 20000,\n",
       " entity_name\n",
       " item_weight                      31293\n",
       " depth                            13550\n",
       " width                            13368\n",
       " height                           13264\n",
       " voltage                           2883\n",
       " wattage                           2361\n",
       " item_volume                       2300\n",
       " maximum_weight_recommendation      981\n",
       " Name: count, dtype: int64,\n",
       " entity_name\n",
       " item_weight                      7823\n",
       " depth                            3388\n",
       " width                            3342\n",
       " height                           3316\n",
       " voltage                           721\n",
       " wattage                           590\n",
       " item_volume                       575\n",
       " maximum_weight_recommendation     245\n",
       " Name: count, dtype: int64)"
      ]
     },
     "execution_count": 4,
     "metadata": {},
     "output_type": "execute_result"
    }
   ],
   "source": [
    "len(train_data), len(test_data), train_data['entity_name'].value_counts(), test_data['entity_name'].value_counts()"
   ]
  },
  {
   "cell_type": "markdown",
   "id": "a1daae9a",
   "metadata": {
    "papermill": {
     "duration": 0.005372,
     "end_time": "2025-01-18T13:33:44.230871",
     "exception": false,
     "start_time": "2025-01-18T13:33:44.225499",
     "status": "completed"
    },
    "tags": []
   },
   "source": [
    "# Experimenting - `google/pix2struct-docvqa-base`\n",
    "## Inferencing as it is"
   ]
  },
  {
   "cell_type": "code",
   "execution_count": 5,
   "id": "7ecec173",
   "metadata": {
    "execution": {
     "iopub.execute_input": "2025-01-18T13:33:44.242655Z",
     "iopub.status.busy": "2025-01-18T13:33:44.242400Z",
     "iopub.status.idle": "2025-01-18T13:34:01.825294Z",
     "shell.execute_reply": "2025-01-18T13:34:01.824488Z"
    },
    "papermill": {
     "duration": 17.590506,
     "end_time": "2025-01-18T13:34:01.826938",
     "exception": false,
     "start_time": "2025-01-18T13:33:44.236432",
     "status": "completed"
    },
    "tags": []
   },
   "outputs": [
    {
     "data": {
      "application/vnd.jupyter.widget-view+json": {
       "model_id": "2018f2adf33e4f32a7c1e3b52bf7b54e",
       "version_major": 2,
       "version_minor": 0
      },
      "text/plain": [
       "config.json:   0%|          | 0.00/4.89k [00:00<?, ?B/s]"
      ]
     },
     "metadata": {},
     "output_type": "display_data"
    },
    {
     "data": {
      "application/vnd.jupyter.widget-view+json": {
       "model_id": "08b75e1202c2488182944ed055dd4175",
       "version_major": 2,
       "version_minor": 0
      },
      "text/plain": [
       "model.safetensors:   0%|          | 0.00/1.13G [00:00<?, ?B/s]"
      ]
     },
     "metadata": {},
     "output_type": "display_data"
    },
    {
     "data": {
      "application/vnd.jupyter.widget-view+json": {
       "model_id": "faeaabe2217e4471b7a0a6832ec51f20",
       "version_major": 2,
       "version_minor": 0
      },
      "text/plain": [
       "preprocessor_config.json:   0%|          | 0.00/249 [00:00<?, ?B/s]"
      ]
     },
     "metadata": {},
     "output_type": "display_data"
    },
    {
     "data": {
      "application/vnd.jupyter.widget-view+json": {
       "model_id": "22218e94251e4411a3f2e3e3679ef314",
       "version_major": 2,
       "version_minor": 0
      },
      "text/plain": [
       "tokenizer_config.json:   0%|          | 0.00/2.58k [00:00<?, ?B/s]"
      ]
     },
     "metadata": {},
     "output_type": "display_data"
    },
    {
     "data": {
      "application/vnd.jupyter.widget-view+json": {
       "model_id": "81cb30c33ee64e60899f8c3b504755f8",
       "version_major": 2,
       "version_minor": 0
      },
      "text/plain": [
       "spiece.model:   0%|          | 0.00/851k [00:00<?, ?B/s]"
      ]
     },
     "metadata": {},
     "output_type": "display_data"
    },
    {
     "data": {
      "application/vnd.jupyter.widget-view+json": {
       "model_id": "3faa19f17c6d42e7917eec6383379a63",
       "version_major": 2,
       "version_minor": 0
      },
      "text/plain": [
       "tokenizer.json:   0%|          | 0.00/3.27M [00:00<?, ?B/s]"
      ]
     },
     "metadata": {},
     "output_type": "display_data"
    },
    {
     "data": {
      "application/vnd.jupyter.widget-view+json": {
       "model_id": "32d38952a8f14d659cf02427b1eb4e5b",
       "version_major": 2,
       "version_minor": 0
      },
      "text/plain": [
       "special_tokens_map.json:   0%|          | 0.00/2.20k [00:00<?, ?B/s]"
      ]
     },
     "metadata": {},
     "output_type": "display_data"
    }
   ],
   "source": [
    "model_1 = Pix2StructForConditionalGeneration.from_pretrained('google/pix2struct-docvqa-base')\n",
    "processor_1 = Pix2StructProcessor.from_pretrained('google/pix2struct-docvqa-base')"
   ]
  },
  {
   "cell_type": "code",
   "execution_count": 6,
   "id": "e2e683b1",
   "metadata": {
    "execution": {
     "iopub.execute_input": "2025-01-18T13:34:01.841437Z",
     "iopub.status.busy": "2025-01-18T13:34:01.840923Z",
     "iopub.status.idle": "2025-01-18T13:34:01.846076Z",
     "shell.execute_reply": "2025-01-18T13:34:01.845312Z"
    },
    "papermill": {
     "duration": 0.013376,
     "end_time": "2025-01-18T13:34:01.847415",
     "exception": false,
     "start_time": "2025-01-18T13:34:01.834039",
     "status": "completed"
    },
    "tags": []
   },
   "outputs": [
    {
     "name": "stdout",
     "output_type": "stream",
     "text": [
      "Model :  (flattened_patches: Optional[torch.FloatTensor] = None, attention_mask: Optional[torch.FloatTensor] = None, decoder_input_ids: Optional[torch.LongTensor] = None, decoder_attention_mask: Optional[torch.BoolTensor] = None, head_mask: Optional[torch.FloatTensor] = None, decoder_head_mask: Optional[torch.FloatTensor] = None, cross_attn_head_mask: Optional[torch.Tensor] = None, encoder_outputs: Optional[Tuple[Tuple[torch.FloatTensor]]] = None, past_key_values: Optional[Tuple[Tuple[torch.FloatTensor]]] = None, labels: Optional[torch.LongTensor] = None, decoder_inputs_embeds: Optional[torch.Tensor] = None, use_cache: Optional[bool] = None, output_attentions: Optional[bool] = None, output_hidden_states: Optional[bool] = None, return_dict: Optional[bool] = None) -> Union[Tuple[torch.FloatTensor], transformers.modeling_outputs.Seq2SeqModelOutput]\n",
      "\n",
      "Processor :  (images=None, text: Union[str, List[str], List[List[str]]] = None, add_special_tokens: bool = True, padding: Union[bool, str, transformers.utils.generic.PaddingStrategy] = False, truncation: Union[bool, str, transformers.tokenization_utils_base.TruncationStrategy] = None, max_length: Optional[int] = None, max_patches: Optional[int] = 2048, stride: int = 0, pad_to_multiple_of: Optional[int] = None, return_attention_mask: Optional[bool] = None, return_overflowing_tokens: bool = False, return_special_tokens_mask: bool = False, return_offsets_mapping: bool = False, return_token_type_ids: bool = False, return_length: bool = False, verbose: bool = True, return_tensors: Union[str, transformers.utils.generic.TensorType, NoneType] = None, **kwargs) -> transformers.tokenization_utils_base.BatchEncoding\n"
     ]
    }
   ],
   "source": [
    "print(\"Model : \", inspect.signature(model_1.forward))\n",
    "print(\"\\nProcessor : \", inspect.signature(processor_1))"
   ]
  },
  {
   "cell_type": "code",
   "execution_count": 7,
   "id": "da233063",
   "metadata": {
    "execution": {
     "iopub.execute_input": "2025-01-18T13:34:01.860975Z",
     "iopub.status.busy": "2025-01-18T13:34:01.860764Z",
     "iopub.status.idle": "2025-01-18T13:34:01.867406Z",
     "shell.execute_reply": "2025-01-18T13:34:01.866616Z"
    },
    "papermill": {
     "duration": 0.014704,
     "end_time": "2025-01-18T13:34:01.868606",
     "exception": false,
     "start_time": "2025-01-18T13:34:01.853902",
     "status": "completed"
    },
    "tags": []
   },
   "outputs": [],
   "source": [
    "# model and processor on sample image - inference\n",
    "def random_predict(train_data, model, processor, n):\n",
    "    if n>5:\n",
    "        print(\"Too big. Setting n to 5.\")\n",
    "        n=5\n",
    "    elif n<=0:\n",
    "        print(\"Too small, setting n to 1.\")\n",
    "        n=1\n",
    "    for i in range(n):\n",
    "        random_number = random.randint(0, len(train_data)-1)\n",
    "        \n",
    "        image = Image.open(train_data['kaggle_image_path'][random_number])\n",
    "        plt.imshow(image)\n",
    "        plt.axis(\"off\")\n",
    "        plt.show()\n",
    "        \n",
    "        text = f\"What is the {train_data['entity_name'][random_number]} and its unit in this image?\"\n",
    "        inputs = processor(images=image, text=text, padding=\"max_length\",\n",
    "                           truncation=True, max_length=15, return_tensors=\"pt\", add_special_tokens=False)\n",
    "        ## ({'flattened_patches', 'attention_mask'})\n",
    "        print(\"Inputs : \", inputs)\n",
    "        print(\"Patches shape: \",inputs['flattened_patches'].shape)\n",
    "        print(\"Attention Mask shape: \", inputs['attention_mask'].shape)\n",
    "        \n",
    "        label = processor.tokenizer.encode(train_data['entity_value'][random_number], \n",
    "                                                                     padding=\"max_length\", truncation=True,\n",
    "                                                                     max_length=15, return_tensors='pt')\n",
    "        \n",
    "        outputs = model(flattened_patches=inputs['flattened_patches'], attention_mask=inputs['attention_mask'], labels=label)\n",
    "        print(\"Output with labels passed : \", outputs) #, outputs[0])\n",
    "        print(\"Loss :\", outputs.loss)\n",
    "        print(\"----\"*15)\n",
    "        outputs = model.generate(**inputs)\n",
    "        result = processor.decode(outputs[0], skip_special_tokens=True)\n",
    "        print(\"Outputs for generate : \", outputs, outputs[0])\n",
    "        print(\"Label Encoded as output form : \", label)\n",
    "        print(\"Question : \", text)\n",
    "        print(\"Result : \", result)\n",
    "        print(\"Original : \", train_data['entity_value'][random_number])\n",
    "        print(\"*\"*50)"
   ]
  },
  {
   "cell_type": "code",
   "execution_count": 8,
   "id": "dc80a28a",
   "metadata": {
    "execution": {
     "iopub.execute_input": "2025-01-18T13:34:01.882317Z",
     "iopub.status.busy": "2025-01-18T13:34:01.882095Z",
     "iopub.status.idle": "2025-01-18T13:34:33.217762Z",
     "shell.execute_reply": "2025-01-18T13:34:33.216861Z"
    },
    "papermill": {
     "duration": 31.351185,
     "end_time": "2025-01-18T13:34:33.226537",
     "exception": false,
     "start_time": "2025-01-18T13:34:01.875352",
     "status": "completed"
    },
    "tags": []
   },
   "outputs": [
    {
     "data": {
      "image/png": "[encoded data removed]",
      "text/plain": [
       "<Figure size 640x480 with 1 Axes>"
      ]
     },
     "metadata": {},
     "output_type": "display_data"
    },
    {
     "data": {
      "application/vnd.jupyter.widget-view+json": {
       "model_id": "e1c4d493b90f45fdb0af31b7602f9f11",
       "version_major": 2,
       "version_minor": 0
      },
      "text/plain": [
       "Arial.TTF:   0%|          | 0.00/276k [00:00<?, ?B/s]"
      ]
     },
     "metadata": {},
     "output_type": "display_data"
    },
    {
     "name": "stdout",
     "output_type": "stream",
     "text": [
      "Inputs :  {'flattened_patches': tensor([[[1.0000, 1.0000, 0.2994,  ..., 0.2994, 0.2994, 0.2994],\n",
      "         [1.0000, 2.0000, 0.2994,  ..., 0.2958, 0.2958, 0.2958],\n",
      "         [1.0000, 3.0000, 0.2994,  ..., 0.2994, 0.2994, 0.2994],\n",
      "         ...,\n",
      "         [0.0000, 0.0000, 0.0000,  ..., 0.0000, 0.0000, 0.0000],\n",
      "         [0.0000, 0.0000, 0.0000,  ..., 0.0000, 0.0000, 0.0000],\n",
      "         [0.0000, 0.0000, 0.0000,  ..., 0.0000, 0.0000, 0.0000]]]), 'attention_mask': tensor([[1., 1., 1.,  ..., 0., 0., 0.]])}\n",
      "Patches shape:  torch.Size([1, 2048, 770])\n",
      "Attention Mask shape:  torch.Size([1, 2048])\n",
      "Output with labels passed :  Seq2SeqLMOutput(loss=tensor(21.4265, grad_fn=<NllLossBackward0>), logits=tensor([[[-54.8912, -13.0735, -55.3752,  ..., -29.3453, -31.2344, -25.6398],\n",
      "         [-76.2079, -22.1258, -76.8204,  ..., -42.5418, -49.4923, -42.6435],\n",
      "         [-64.3397, -15.2349, -64.9545,  ..., -39.9861, -41.4241, -40.8746],\n",
      "         ...,\n",
      "         [-55.6148, -12.9319, -56.0844,  ..., -30.1171, -33.4630, -26.0446],\n",
      "         [-54.3180, -12.4872, -54.7735,  ..., -29.1757, -32.4302, -25.3027],\n",
      "         [-54.0788, -12.5099, -54.5304,  ..., -28.8689, -31.9571, -25.0274]]],\n",
      "       grad_fn=<UnsafeViewBackward0>), past_key_values=None, decoder_hidden_states=None, decoder_attentions=None, cross_attentions=None, encoder_last_hidden_state=tensor([[[ 0.0279,  0.8125, -0.1710,  ..., -1.0195,  0.0957, -0.3698],\n",
      "         [-0.4843,  0.4596, -0.3117,  ...,  0.1438,  0.4079, -0.6408],\n",
      "         [-0.3518,  0.2061, -0.0910,  ..., -0.0089,  0.3697, -0.2122],\n",
      "         ...,\n",
      "         [ 0.1525,  0.5358, -0.1290,  ...,  0.1631,  0.1223, -0.5681],\n",
      "         [ 0.1525,  0.5358, -0.1290,  ...,  0.1631,  0.1223, -0.5681],\n",
      "         [ 0.1525,  0.5358, -0.1290,  ...,  0.1631,  0.1223, -0.5681]]],\n",
      "       grad_fn=<MulBackward0>), encoder_hidden_states=None, encoder_attentions=None)\n",
      "Loss : tensor(21.4265, grad_fn=<NllLossBackward0>)\n",
      "------------------------------------------------------------\n",
      "Outputs for generate :  tensor([[    0,   273,   285,   294,   274,   285, 15252,   346,   277,   290,\n",
      "           274,   278,   295,  7011,   308,     1]]) tensor([    0,   273,   285,   294,   274,   285, 15252,   346,   277,   290,\n",
      "          274,   278,   295,  7011,   308,     1])\n",
      "Label Encoded as output form :  tensor([[  273,   277,   277,   274,   292,  2141, 24209,   301,   372,     1,\n",
      "             0,     0,     0,     0,     0]])\n",
      "Question :  What is the height and its unit in this image?\n",
      "Result :  38.3CM(15.07IN)\n",
      "Original :  11.9 centimetre\n",
      "**************************************************\n",
      "CPU times: user 33.2 s, sys: 26.7 s, total: 59.9 s\n",
      "Wall time: 31.3 s\n"
     ]
    }
   ],
   "source": [
    "%%time\n",
    "random_predict(train_data, model_1, processor_1, 1)"
   ]
  },
  {
   "cell_type": "code",
   "execution_count": 9,
   "id": "48ce2244",
   "metadata": {
    "execution": {
     "iopub.execute_input": "2025-01-18T13:34:33.241798Z",
     "iopub.status.busy": "2025-01-18T13:34:33.241524Z",
     "iopub.status.idle": "2025-01-18T13:34:33.244726Z",
     "shell.execute_reply": "2025-01-18T13:34:33.243873Z"
    },
    "papermill": {
     "duration": 0.012054,
     "end_time": "2025-01-18T13:34:33.245873",
     "exception": false,
     "start_time": "2025-01-18T13:34:33.233819",
     "status": "completed"
    },
    "tags": []
   },
   "outputs": [],
   "source": [
    "# The dataset is too noisy.\n",
    "# The next iteration strategy would be data curation"
   ]
  },
  {
   "cell_type": "markdown",
   "id": "a8e2bfb2",
   "metadata": {
    "papermill": {
     "duration": 0.006904,
     "end_time": "2025-01-18T13:34:33.259837",
     "exception": false,
     "start_time": "2025-01-18T13:34:33.252933",
     "status": "completed"
    },
    "tags": []
   },
   "source": [
    "-------"
   ]
  },
  {
   "cell_type": "markdown",
   "id": "c45cfd0e",
   "metadata": {
    "papermill": {
     "duration": 0.006922,
     "end_time": "2025-01-18T13:34:33.273711",
     "exception": false,
     "start_time": "2025-01-18T13:34:33.266789",
     "status": "completed"
    },
    "tags": []
   },
   "source": [
    "# Fine Tuning on our dataset"
   ]
  },
  {
   "cell_type": "code",
   "execution_count": 10,
   "id": "78f9354e",
   "metadata": {
    "execution": {
     "iopub.execute_input": "2025-01-18T13:34:33.288528Z",
     "iopub.status.busy": "2025-01-18T13:34:33.288307Z",
     "iopub.status.idle": "2025-01-18T13:34:34.265660Z",
     "shell.execute_reply": "2025-01-18T13:34:34.264784Z"
    },
    "papermill": {
     "duration": 0.986663,
     "end_time": "2025-01-18T13:34:34.267324",
     "exception": false,
     "start_time": "2025-01-18T13:34:33.280661",
     "status": "completed"
    },
    "tags": []
   },
   "outputs": [],
   "source": [
    "path = 'google/pix2struct-docvqa-base'\n",
    "model = Pix2StructForConditionalGeneration.from_pretrained(path)\n",
    "processor = Pix2StructProcessor.from_pretrained(path)"
   ]
  },
  {
   "cell_type": "code",
   "execution_count": 11,
   "id": "d3ea4ed2",
   "metadata": {
    "execution": {
     "iopub.execute_input": "2025-01-18T13:34:34.283098Z",
     "iopub.status.busy": "2025-01-18T13:34:34.282810Z",
     "iopub.status.idle": "2025-01-18T13:34:34.286475Z",
     "shell.execute_reply": "2025-01-18T13:34:34.285670Z"
    },
    "papermill": {
     "duration": 0.012796,
     "end_time": "2025-01-18T13:34:34.287721",
     "exception": false,
     "start_time": "2025-01-18T13:34:34.274925",
     "status": "completed"
    },
    "tags": []
   },
   "outputs": [],
   "source": [
    "transform = torchvision.transforms.Compose([\n",
    "    torchvision.transforms.Resize((224, 224)),\n",
    "    # torchvision.transforms.ToTensor(), # **BLUNDER** : Took me a week to understand my mistake! :(\n",
    "    # torchvision.transforms.Normalize(mean=[0.485, 0.456, 0.406], std=[0.229, 0.224, 0.225])\n",
    "])"
   ]
  },
  {
   "cell_type": "code",
   "execution_count": 12,
   "id": "161ef5f1",
   "metadata": {
    "execution": {
     "iopub.execute_input": "2025-01-18T13:34:34.302703Z",
     "iopub.status.busy": "2025-01-18T13:34:34.302462Z",
     "iopub.status.idle": "2025-01-18T13:34:34.305397Z",
     "shell.execute_reply": "2025-01-18T13:34:34.304723Z"
    },
    "papermill": {
     "duration": 0.011803,
     "end_time": "2025-01-18T13:34:34.306586",
     "exception": false,
     "start_time": "2025-01-18T13:34:34.294783",
     "status": "completed"
    },
    "tags": []
   },
   "outputs": [],
   "source": [
    "# image = Image.open(train_data['kaggle_image_path'][42])\n",
    "# image = transform(image)\n",
    "# print(image.shape)\n",
    "# plt.imshow(image.permute(1, 2, 0))\n",
    "# plt.axis('off');"
   ]
  },
  {
   "cell_type": "code",
   "execution_count": 13,
   "id": "ddcc11d7",
   "metadata": {
    "execution": {
     "iopub.execute_input": "2025-01-18T13:34:34.321622Z",
     "iopub.status.busy": "2025-01-18T13:34:34.321390Z",
     "iopub.status.idle": "2025-01-18T13:34:34.326923Z",
     "shell.execute_reply": "2025-01-18T13:34:34.326134Z"
    },
    "papermill": {
     "duration": 0.014249,
     "end_time": "2025-01-18T13:34:34.328128",
     "exception": false,
     "start_time": "2025-01-18T13:34:34.313879",
     "status": "completed"
    },
    "tags": []
   },
   "outputs": [],
   "source": [
    "class VQADataset(nn.Module):\n",
    "    def __init__(self, dataframe, processor, transform=False):\n",
    "        super().__init__()\n",
    "        self.data = dataframe\n",
    "        self.processor = processor\n",
    "        self.transform = transform\n",
    "\n",
    "    def __len__(self):\n",
    "        return len(self.data)\n",
    "\n",
    "    def __getitem__(self, idx):\n",
    "        image_path = self.data.iloc[idx]['kaggle_image_path']\n",
    "        image = Image.open(image_path).convert(\"RGB\")\n",
    "        if self.transform:\n",
    "            image = self.transform(image)\n",
    "            \n",
    "        text = f\"What is the {self.data.iloc[idx]['entity_name']} and its unit in this image?\"\n",
    "        inputs = self.processor(images=image, text=text, padding=\"max_length\",\n",
    "                               truncation=True, max_length=15, return_tensors=\"pt\", add_special_tokens=False)\n",
    "        # print(\"Image shape :\", image.shape) # PIL Image cannot be retured error.\n",
    "        # print(\"Inputs :\", inputs)\n",
    "        # print(\"flattened_patches shape:\", np.array(inputs['flattened_patches']).shape)\n",
    "        # print(\"attention_mask shape:\", np.array(inputs['attention_mask']).shape)\n",
    "\n",
    "        label = self.data.iloc[idx]['entity_value']\n",
    "        # print(\"Pre Label :\", label)\n",
    "        label = self.processor.tokenizer.encode(label, padding=\"max_length\", truncation=True, \n",
    "                                         max_length=15, return_tensors='pt', return_attention_mask=False)\n",
    "        \n",
    "        # outputs = model(flattened_patches=inputs['flattened_patches'], attention_mask=inputs['attention_mask'], labels=label)\n",
    "        # print(\"Label:\", label)\n",
    "        # print(\"Labels shape:\", np.array(label).shape)\n",
    "        # print(\"*\"*100)\n",
    "        # print(inputs['flattened_patches'].shape, inputs['attention_mask'].shape, label.shape)\n",
    "        return (inputs['flattened_patches'], inputs['attention_mask'], label)"
   ]
  },
  {
   "cell_type": "code",
   "execution_count": 14,
   "id": "b38bec22",
   "metadata": {
    "execution": {
     "iopub.execute_input": "2025-01-18T13:34:34.343020Z",
     "iopub.status.busy": "2025-01-18T13:34:34.342814Z",
     "iopub.status.idle": "2025-01-18T13:34:34.352963Z",
     "shell.execute_reply": "2025-01-18T13:34:34.352126Z"
    },
    "papermill": {
     "duration": 0.01919,
     "end_time": "2025-01-18T13:34:34.354319",
     "exception": false,
     "start_time": "2025-01-18T13:34:34.335129",
     "status": "completed"
    },
    "tags": []
   },
   "outputs": [],
   "source": [
    "training_data = VQADataset(train_data.sample(frac=0.2), processor, transform)\n",
    "testing_data = VQADataset(test_data, processor, transform)"
   ]
  },
  {
   "cell_type": "code",
   "execution_count": 15,
   "id": "188f5fab",
   "metadata": {
    "execution": {
     "iopub.execute_input": "2025-01-18T13:34:34.369172Z",
     "iopub.status.busy": "2025-01-18T13:34:34.368908Z",
     "iopub.status.idle": "2025-01-18T13:34:34.372552Z",
     "shell.execute_reply": "2025-01-18T13:34:34.371772Z"
    },
    "papermill": {
     "duration": 0.01226,
     "end_time": "2025-01-18T13:34:34.373688",
     "exception": false,
     "start_time": "2025-01-18T13:34:34.361428",
     "status": "completed"
    },
    "tags": []
   },
   "outputs": [],
   "source": [
    "train_dataloader = DataLoader(training_data, batch_size=1, shuffle=True)\n",
    "test_dataloader = DataLoader(testing_data, batch_size=1, shuffle=False)"
   ]
  },
  {
   "cell_type": "code",
   "execution_count": 16,
   "id": "59e46d7e",
   "metadata": {
    "execution": {
     "iopub.execute_input": "2025-01-18T13:34:34.388757Z",
     "iopub.status.busy": "2025-01-18T13:34:34.388544Z",
     "iopub.status.idle": "2025-01-18T13:34:34.567330Z",
     "shell.execute_reply": "2025-01-18T13:34:34.566313Z"
    },
    "papermill": {
     "duration": 0.188126,
     "end_time": "2025-01-18T13:34:34.568906",
     "exception": false,
     "start_time": "2025-01-18T13:34:34.380780",
     "status": "completed"
    },
    "tags": []
   },
   "outputs": [
    {
     "data": {
      "text/plain": [
       "tensor([[[[1.0000, 1.0000, 1.3295,  ..., 1.3295, 1.3295, 1.3295],\n",
       "          [1.0000, 2.0000, 1.3295,  ..., 1.1194, 1.1194, 1.1194],\n",
       "          [1.0000, 3.0000, 1.3295,  ..., 1.3295, 1.3295, 1.3295],\n",
       "          ...,\n",
       "          [0.0000, 0.0000, 0.0000,  ..., 0.0000, 0.0000, 0.0000],\n",
       "          [0.0000, 0.0000, 0.0000,  ..., 0.0000, 0.0000, 0.0000],\n",
       "          [0.0000, 0.0000, 0.0000,  ..., 0.0000, 0.0000, 0.0000]]]])"
      ]
     },
     "execution_count": 16,
     "metadata": {},
     "output_type": "execute_result"
    }
   ],
   "source": [
    "next(iter(train_dataloader))[0]"
   ]
  },
  {
   "cell_type": "code",
   "execution_count": 17,
   "id": "6c07ff95",
   "metadata": {
    "execution": {
     "iopub.execute_input": "2025-01-18T13:34:34.585538Z",
     "iopub.status.busy": "2025-01-18T13:34:34.585283Z",
     "iopub.status.idle": "2025-01-18T13:34:35.181780Z",
     "shell.execute_reply": "2025-01-18T13:34:35.180730Z"
    },
    "papermill": {
     "duration": 0.606066,
     "end_time": "2025-01-18T13:34:35.183334",
     "exception": false,
     "start_time": "2025-01-18T13:34:34.577268",
     "status": "completed"
    },
    "tags": []
   },
   "outputs": [
    {
     "name": "stdout",
     "output_type": "stream",
     "text": [
      "cuda\n"
     ]
    }
   ],
   "source": [
    "optimizer = optim.AdamW(params=model.parameters(), lr=1e-5)\n",
    "epochs = 3    \n",
    "device = 'cuda' if torch.cuda.is_available() else 'cpu'\n",
    "\n",
    "model.to(device)\n",
    "print(device)"
   ]
  },
  {
   "cell_type": "code",
   "execution_count": 18,
   "id": "2adda77d",
   "metadata": {
    "execution": {
     "iopub.execute_input": "2025-01-18T13:34:35.199349Z",
     "iopub.status.busy": "2025-01-18T13:34:35.199111Z",
     "iopub.status.idle": "2025-01-18T23:25:26.541361Z",
     "shell.execute_reply": "2025-01-18T23:25:26.540559Z"
    },
    "papermill": {
     "duration": 35451.351956,
     "end_time": "2025-01-18T23:25:26.542970",
     "exception": false,
     "start_time": "2025-01-18T13:34:35.191014",
     "status": "completed"
    },
    "tags": []
   },
   "outputs": [
    {
     "name": "stderr",
     "output_type": "stream",
     "text": [
      "Training epoch 1/3: 100%|██████████| 16000/16000 [3:18:11<00:00,  1.35it/s, Running Loss=0.155]\n",
      "Training epoch 2/3: 100%|██████████| 16000/16000 [3:16:00<00:00,  1.36it/s, Running Loss=0.0434]\n"
     ]
    },
    {
     "name": "stdout",
     "output_type": "stream",
     "text": [
      "1e-06\n"
     ]
    },
    {
     "name": "stderr",
     "output_type": "stream",
     "text": [
      "Training epoch 3/3: 100%|██████████| 16000/16000 [3:16:34<00:00,  1.36it/s, Running Loss=0.391]\n"
     ]
    }
   ],
   "source": [
    "from sklearn.metrics import f1_score\n",
    "from torch.cuda.amp import autocast, GradScaler\n",
    "\n",
    "# Initialize the GradScaler for mixed precision\n",
    "scaler = GradScaler()\n",
    "\n",
    "for epoch in range(epochs):\n",
    "    epoch_loss = 0\n",
    "    model.train()\n",
    "\n",
    "    if epoch==2:\n",
    "        for param in optimizer.param_groups:\n",
    "            param['lr'] = 1e-6\n",
    "            print(param['lr'])\n",
    "\n",
    "    with tqdm(train_dataloader, desc=f\"Training epoch {epoch+1}/{epochs}\") as pbar:\n",
    "        for batch in pbar:\n",
    "            flattened_patches = batch[0].to(device)\n",
    "            attention_mask = batch[1].to(device)\n",
    "            labels = batch[2].to(device)\n",
    "            \n",
    "            # Use autocast to enable mixed precision\n",
    "            with autocast():  # Automatic mixed precision for the forward pass\n",
    "                outputs = model(flattened_patches=flattened_patches.squeeze(1), \n",
    "                                attention_mask=attention_mask.squeeze(1),\n",
    "                                labels=labels.squeeze(1))\n",
    "                loss = outputs.loss\n",
    "                epoch_loss += loss.item()\n",
    "\n",
    "            # Backpropagate with scaling for stability\n",
    "            optimizer.zero_grad()\n",
    "            scaler.scale(loss).backward()  # Scaled backward pass\n",
    "            scaler.step(optimizer)         # Step with the scaler to update parameters\n",
    "            scaler.update()                # Update the scaler for the next iteration\n",
    "\n",
    "            pbar.set_postfix({\"Running Loss\": loss.item()})\n",
    "        \n",
    "    model.save_pretrained(f\"Epoch-{epoch}-model\")\n",
    "    processor.save_pretrained(f\"Epoch-{epoch}-processor\")"
   ]
  },
  {
   "cell_type": "code",
   "execution_count": null,
   "id": "5b7e5ecb",
   "metadata": {
    "execution": {
     "iopub.execute_input": "2025-01-18T12:58:27.512647Z",
     "iopub.status.busy": "2025-01-18T12:58:27.512346Z",
     "iopub.status.idle": "2025-01-18T12:58:27.517376Z",
     "shell.execute_reply": "2025-01-18T12:58:27.516389Z",
     "shell.execute_reply.started": "2025-01-18T12:58:27.512624Z"
    },
    "papermill": {
     "duration": 4.776492,
     "end_time": "2025-01-18T23:25:35.947433",
     "exception": false,
     "start_time": "2025-01-18T23:25:31.170941",
     "status": "completed"
    },
    "tags": []
   },
   "outputs": [],
   "source": [
    "\n",
    "    "
   ]
  },
  {
   "cell_type": "code",
   "execution_count": 19,
   "id": "6ff6bf6b",
   "metadata": {
    "execution": {
     "iopub.execute_input": "2025-01-18T23:25:45.443378Z",
     "iopub.status.busy": "2025-01-18T23:25:45.443079Z",
     "iopub.status.idle": "2025-01-18T23:25:45.446571Z",
     "shell.execute_reply": "2025-01-18T23:25:45.445870Z"
    },
    "papermill": {
     "duration": 4.719055,
     "end_time": "2025-01-18T23:25:45.447768",
     "exception": false,
     "start_time": "2025-01-18T23:25:40.728713",
     "status": "completed"
    },
    "tags": []
   },
   "outputs": [],
   "source": [
    " # with tqdm(test_dataloader, desc=f\"Evaluating epoch {epoch+1}/{epochs}\") as pbar:\n",
    "    #     with torch.inference_mode(): \n",
    "    #         for batch in pbar:\n",
    "    #             flattened_patches = batch[0].to(device)\n",
    "    #             attention_mask = batch[1].to(device)\n",
    "    #             labels = batch[2].to(device)\n",
    "\n",
    "    #             outputs = model(\n",
    "    #                 flattened_patches=flattened_patches.squeeze(0),\n",
    "    #                 attention_mask=attention_mask.squeeze(0),\n",
    "    #                 labels=labels.squeeze(0)\n",
    "    #             )\n",
    "                \n",
    "    #             # Get predicted logits and labels\n",
    "    #             loss = outputs.loss\n",
    "    #             logits = outputs.logits\n",
    "                \n",
    "    #             epoch_loss += loss.item()\n",
    "\n",
    "    #             # Convert logits to predicted labels\n",
    "    #             preds = torch.argmax(logits, dim=-1).cpu().numpy()\n",
    "    #             true_labels = labels.cpu().numpy()\n",
    "                \n",
    "    #             # Append predictions and true labels for F1 calculation\n",
    "    #             epoch_preds.extend(preds)\n",
    "    #             epoch_labels.extend(true_labels)\n",
    "                \n",
    "    #             # Update tqdm progress bar with the current loss\n",
    "    #             pbar.set_postfix({\"Loss\": loss.item()})\n",
    "\n",
    "    # avg_loss = epoch_loss / len(test_dataloader)\n",
    "    \n",
    "    # f1 = f1_score(epoch_labels, epoch_preds, average='weighted')  # You can change average type based on needs\n",
    "    \n",
    "    # print(f\"Epoch {epoch+1}/{epochs} - Evaluation Loss: {avg_loss:.4f} | F1 Score: {f1:.4f}\")"
   ]
  },
  {
   "cell_type": "code",
   "execution_count": 20,
   "id": "89bbbd12",
   "metadata": {
    "execution": {
     "iopub.execute_input": "2025-01-18T23:25:55.010198Z",
     "iopub.status.busy": "2025-01-18T23:25:55.009877Z",
     "iopub.status.idle": "2025-01-18T23:28:24.642579Z",
     "shell.execute_reply": "2025-01-18T23:28:24.641647Z"
    },
    "papermill": {
     "duration": 154.373708,
     "end_time": "2025-01-18T23:28:24.643848",
     "exception": false,
     "start_time": "2025-01-18T23:25:50.270140",
     "status": "completed"
    },
    "tags": []
   },
   "outputs": [
    {
     "data": {
      "image/png": "[encoded data removed]",
      "text/plain": [
       "<Figure size 640x480 with 1 Axes>"
      ]
     },
     "metadata": {},
     "output_type": "display_data"
    },
    {
     "name": "stdout",
     "output_type": "stream",
     "text": [
      "Inputs :  {'flattened_patches': tensor([[[1.0000, 1.0000, 0.3735,  ..., 0.3735, 0.3735, 0.3735],\n",
      "         [1.0000, 2.0000, 0.3735,  ..., 0.3542, 0.3542, 0.3542],\n",
      "         [1.0000, 3.0000, 0.3735,  ..., 0.3735, 0.3735, 0.3735],\n",
      "         ...,\n",
      "         [0.0000, 0.0000, 0.0000,  ..., 0.0000, 0.0000, 0.0000],\n",
      "         [0.0000, 0.0000, 0.0000,  ..., 0.0000, 0.0000, 0.0000],\n",
      "         [0.0000, 0.0000, 0.0000,  ..., 0.0000, 0.0000, 0.0000]]]), 'attention_mask': tensor([[1., 1., 1.,  ..., 0., 0., 0.]])}\n",
      "Patches shape:  torch.Size([1, 2048, 770])\n",
      "Attention Mask shape:  torch.Size([1, 2048])\n",
      "Output with labels passed :  Seq2SeqLMOutput(loss=tensor(0.0022, grad_fn=<NllLossBackward0>), logits=tensor([[[-40.0368,  -7.8060, -36.3620,  ..., -24.0647, -21.4052, -19.5918],\n",
      "         [-31.9532,  -9.2091, -27.9294,  ..., -19.0560, -17.4490, -20.8582],\n",
      "         [-36.3171,  -8.8096, -32.1617,  ..., -22.4154, -23.6013, -27.5956],\n",
      "         ...,\n",
      "         [105.3329,  25.2340,  84.3451,  ...,  56.4206,  63.5640,  44.7869],\n",
      "         [107.5999,  24.7948,  86.2816,  ...,  57.4095,  63.2084,  48.4920],\n",
      "         [102.0556,  23.3877,  81.3297,  ...,  51.2282,  56.1986,  41.6840]]],\n",
      "       grad_fn=<UnsafeViewBackward0>), past_key_values=None, decoder_hidden_states=None, decoder_attentions=None, cross_attentions=None, encoder_last_hidden_state=tensor([[[ 0.2082,  0.5861, -0.2102,  ..., -0.7294,  0.1251, -0.1753],\n",
      "         [-0.4704,  0.3466, -0.3602,  ..., -0.2705,  0.3324, -0.2388],\n",
      "         [-0.3546, -0.1227, -0.3683,  ...,  0.1509,  0.3412, -0.1089],\n",
      "         ...,\n",
      "         [-0.2276,  0.7199,  0.2307,  ...,  0.1691, -0.1843, -0.4067],\n",
      "         [-0.2276,  0.7199,  0.2307,  ...,  0.1691, -0.1843, -0.4067],\n",
      "         [-0.2276,  0.7199,  0.2307,  ...,  0.1691, -0.1843, -0.4067]]],\n",
      "       grad_fn=<MulBackward0>), encoder_hidden_states=None, encoder_attentions=None)\n",
      "Loss : tensor(0.0022, grad_fn=<NllLossBackward0>)\n",
      "------------------------------------------------------------\n",
      "Outputs for generate :  tensor([[    0,   273,   279,   278,   278,   274,   278,  2141, 24209,   301,\n",
      "           372,     1]]) tensor([    0,   273,   279,   278,   278,   274,   278,  2141, 24209,   301,\n",
      "          372,     1])\n",
      "Label Encoded as output form :  tensor([[  273,   279,   278,   278,   274,   278,  2141, 24209,   301,   372,\n",
      "             1,     0,     0,     0,     0]])\n",
      "Question :  What is the height and its unit in this image?\n",
      "Result :  200.0 centimetre\n",
      "Original :  200.0 centimetre\n",
      "**************************************************\n"
     ]
    },
    {
     "data": {
      "image/png": "[encoded data removed]",
      "text/plain": [
       "<Figure size 640x480 with 1 Axes>"
      ]
     },
     "metadata": {},
     "output_type": "display_data"
    },
    {
     "name": "stdout",
     "output_type": "stream",
     "text": [
      "Inputs :  {'flattened_patches': tensor([[[ 1.0000,  1.0000,  0.5403,  ..., -1.3770, -1.3770, -1.3770],\n",
      "         [ 1.0000,  2.0000,  0.5403,  ..., -1.1707, -1.1707, -1.1707],\n",
      "         [ 1.0000,  3.0000,  0.5403,  ...,  0.5403,  0.5403,  0.5403],\n",
      "         ...,\n",
      "         [ 0.0000,  0.0000,  0.0000,  ...,  0.0000,  0.0000,  0.0000],\n",
      "         [ 0.0000,  0.0000,  0.0000,  ...,  0.0000,  0.0000,  0.0000],\n",
      "         [ 0.0000,  0.0000,  0.0000,  ...,  0.0000,  0.0000,  0.0000]]]), 'attention_mask': tensor([[1., 1., 1.,  ..., 0., 0., 0.]])}\n",
      "Patches shape:  torch.Size([1, 2048, 770])\n",
      "Attention Mask shape:  torch.Size([1, 2048])\n",
      "Output with labels passed :  Seq2SeqLMOutput(loss=tensor(0.2813, grad_fn=<NllLossBackward0>), logits=tensor([[[-28.3888,  -7.0285, -26.4217,  ..., -16.7540, -18.1141, -13.3799],\n",
      "         [-28.2430,  -7.8269, -25.0253,  ..., -17.6568, -18.6237, -16.8932],\n",
      "         [-24.6967,  -4.6297, -22.4773,  ..., -14.3220, -13.5209, -15.0753],\n",
      "         ...,\n",
      "         [ 98.6229,  25.7446,  78.6879,  ...,  55.9072,  55.2580,  45.9590],\n",
      "         [105.9071,  30.9796,  84.7351,  ...,  56.7494,  60.4929,  50.2118],\n",
      "         [108.8596,  26.5883,  85.4861,  ...,  60.7921,  63.5657,  46.6053]]],\n",
      "       grad_fn=<UnsafeViewBackward0>), past_key_values=None, decoder_hidden_states=None, decoder_attentions=None, cross_attentions=None, encoder_last_hidden_state=tensor([[[-0.1809,  0.5899,  0.0100,  ..., -0.5758, -0.0952, -0.3488],\n",
      "         [-0.9671, -0.2526,  0.0483,  ...,  0.0443, -0.2795, -0.1628],\n",
      "         [-0.8100, -0.1300,  0.2251,  ...,  0.1340, -0.2471,  0.0155],\n",
      "         ...,\n",
      "         [-0.5083,  0.1771, -0.0174,  ..., -0.4083, -0.2790, -0.0128],\n",
      "         [-0.5083,  0.1771, -0.0174,  ..., -0.4083, -0.2790, -0.0128],\n",
      "         [-0.5083,  0.1771, -0.0174,  ..., -0.4083, -0.2790, -0.0128]]],\n",
      "       grad_fn=<MulBackward0>), encoder_hidden_states=None, encoder_attentions=None)\n",
      "Loss : tensor(0.2813, grad_fn=<NllLossBackward0>)\n",
      "------------------------------------------------------------\n",
      "Outputs for generate :  tensor([[    0,   273,   277,   278,   278,   274,   278, 17338,     1]]) tensor([    0,   273,   277,   278,   278,   274,   278, 17338,     1])\n",
      "Label Encoded as output form :  tensor([[  273,   279, 37154, 19743,     1,     0,     0,     0,     0,     0,\n",
      "             0,     0,     0,     0,     0]])\n",
      "Question :  What is the item_weight and its unit in this image?\n",
      "Result :  100.0 gram\n",
      "Original :  2 kilogram\n",
      "**************************************************\n"
     ]
    },
    {
     "data": {
      "image/png": "[encoded data removed]",
      "text/plain": [
       "<Figure size 640x480 with 1 Axes>"
      ]
     },
     "metadata": {},
     "output_type": "display_data"
    },
    {
     "name": "stdout",
     "output_type": "stream",
     "text": [
      "Inputs :  {'flattened_patches': tensor([[[ 1.0000,  1.0000,  0.6224,  ..., -1.6050, -1.6050, -1.6050],\n",
      "         [ 1.0000,  2.0000,  0.6224,  ...,  0.1621,  0.1621,  0.1621],\n",
      "         [ 1.0000,  3.0000,  0.6224,  ...,  0.6224,  0.6224,  0.6224],\n",
      "         ...,\n",
      "         [ 0.0000,  0.0000,  0.0000,  ...,  0.0000,  0.0000,  0.0000],\n",
      "         [ 0.0000,  0.0000,  0.0000,  ...,  0.0000,  0.0000,  0.0000],\n",
      "         [ 0.0000,  0.0000,  0.0000,  ...,  0.0000,  0.0000,  0.0000]]]), 'attention_mask': tensor([[1., 1., 1.,  ..., 0., 0., 0.]])}\n",
      "Patches shape:  torch.Size([1, 2048, 770])\n",
      "Attention Mask shape:  torch.Size([1, 2048])\n",
      "Output with labels passed :  Seq2SeqLMOutput(loss=tensor(0.5521, grad_fn=<NllLossBackward0>), logits=tensor([[[-22.0166,  -4.9039, -20.8142,  ..., -16.2938, -14.4237, -10.6682],\n",
      "         [-26.4727,  -6.3648, -23.7464,  ..., -19.3548, -18.3422, -16.2382],\n",
      "         [-23.4655,  -4.0492, -21.5148,  ..., -15.2194, -13.2620, -13.3918],\n",
      "         ...,\n",
      "         [102.0625,  27.5648,  80.9515,  ...,  59.4273,  60.3897,  46.9449],\n",
      "         [100.9180,  23.2173,  79.7899,  ...,  55.8931,  58.0333,  39.0124],\n",
      "         [104.6009,  23.6204,  82.8071,  ...,  56.3602,  59.1190,  48.0603]]],\n",
      "       grad_fn=<UnsafeViewBackward0>), past_key_values=None, decoder_hidden_states=None, decoder_attentions=None, cross_attentions=None, encoder_last_hidden_state=tensor([[[-0.0177,  0.5307,  0.1533,  ..., -0.5113,  0.0096, -0.2943],\n",
      "         [-0.8038, -0.2670,  0.1262,  ...,  0.0867, -0.3790, -0.1179],\n",
      "         [-0.6517, -0.0707,  0.2548,  ..., -0.0919, -0.2726,  0.0773],\n",
      "         ...,\n",
      "         [-0.1722,  0.0774, -0.1475,  ..., -0.0456, -0.2865, -0.0046],\n",
      "         [-0.1722,  0.0774, -0.1475,  ..., -0.0456, -0.2865, -0.0046],\n",
      "         [-0.1722,  0.0774, -0.1475,  ..., -0.0456, -0.2865, -0.0046]]],\n",
      "       grad_fn=<MulBackward0>), encoder_hidden_states=None, encoder_attentions=None)\n",
      "Loss : tensor(0.5521, grad_fn=<NllLossBackward0>)\n",
      "------------------------------------------------------------\n",
      "Outputs for generate :  tensor([[    0,   273,   277,   278,   278,   274,   278, 43088, 15609,   372,\n",
      "             1]]) tensor([    0,   273,   277,   278,   278,   274,   278, 43088, 15609,   372,\n",
      "            1])\n",
      "Label Encoded as output form :  tensor([[  273,   285,   285,   274,   278, 43088, 15609,   372,     1,     0,\n",
      "             0,     0,     0,     0,     0]])\n",
      "Question :  What is the item_volume and its unit in this image?\n",
      "Result :  100.0 millilitre\n",
      "Original :  33.0 millilitre\n",
      "**************************************************\n"
     ]
    },
    {
     "data": {
      "image/png": "[encoded data removed]",
      "text/plain": [
       "<Figure size 640x480 with 1 Axes>"
      ]
     },
     "metadata": {},
     "output_type": "display_data"
    },
    {
     "name": "stdout",
     "output_type": "stream",
     "text": [
      "Inputs :  {'flattened_patches': tensor([[[1.0000, 1.0000, 2.8922,  ..., 1.0392, 1.0392, 1.0392],\n",
      "         [1.0000, 2.0000, 2.8922,  ..., 1.0461, 1.0461, 1.0461],\n",
      "         [1.0000, 3.0000, 2.8922,  ..., 2.8922, 2.8922, 2.8922],\n",
      "         ...,\n",
      "         [0.0000, 0.0000, 0.0000,  ..., 0.0000, 0.0000, 0.0000],\n",
      "         [0.0000, 0.0000, 0.0000,  ..., 0.0000, 0.0000, 0.0000],\n",
      "         [0.0000, 0.0000, 0.0000,  ..., 0.0000, 0.0000, 0.0000]]]), 'attention_mask': tensor([[1., 1., 1.,  ..., 0., 0., 0.]])}\n",
      "Patches shape:  torch.Size([1, 2048, 770])\n",
      "Attention Mask shape:  torch.Size([1, 2048])\n",
      "Output with labels passed :  Seq2SeqLMOutput(loss=tensor(0.1211, grad_fn=<NllLossBackward0>), logits=tensor([[[-33.2005,  -9.0608, -30.9997,  ..., -23.0313, -22.2070, -14.8001],\n",
      "         [-30.4771,  -6.9844, -26.8953,  ..., -18.1879, -19.0481, -16.0442],\n",
      "         [-26.6582,  -1.6824, -24.4638,  ..., -16.0861, -15.9512, -18.1027],\n",
      "         ...,\n",
      "         [ 91.3142,  26.0882,  71.8153,  ...,  47.9408,  52.0399,  41.8165],\n",
      "         [ 99.8773,  21.8061,  79.2803,  ...,  52.7725,  56.2244,  42.7078],\n",
      "         [105.5257,  26.0858,  84.2568,  ...,  59.2580,  61.6595,  46.9165]]],\n",
      "       grad_fn=<UnsafeViewBackward0>), past_key_values=None, decoder_hidden_states=None, decoder_attentions=None, cross_attentions=None, encoder_last_hidden_state=tensor([[[ 0.0601,  0.6967, -0.2678,  ..., -0.5796, -0.1946, -0.2029],\n",
      "         [-0.9634, -0.2451,  0.0658,  ...,  0.0824, -0.2198, -0.3334],\n",
      "         [-0.8066, -0.1478,  0.1873,  ...,  0.2976, -0.1998, -0.1020],\n",
      "         ...,\n",
      "         [ 0.2125,  0.6606, -0.1025,  ...,  0.1927, -0.0602, -0.3403],\n",
      "         [ 0.2125,  0.6606, -0.1025,  ...,  0.1927, -0.0602, -0.3403],\n",
      "         [ 0.2125,  0.6606, -0.1025,  ...,  0.1927, -0.0602, -0.3403]]],\n",
      "       grad_fn=<MulBackward0>), encoder_hidden_states=None, encoder_attentions=None)\n",
      "Loss : tensor(0.1211, grad_fn=<NllLossBackward0>)\n",
      "------------------------------------------------------------\n",
      "Outputs for generate :  tensor([[    0,   273,   277,   274,   278, 37154, 19743,     1]]) tensor([    0,   273,   277,   274,   278, 37154, 19743,     1])\n",
      "Label Encoded as output form :  tensor([[  273,   277, 37154, 19743,     1,     0,     0,     0,     0,     0,\n",
      "             0,     0,     0,     0,     0]])\n",
      "Question :  What is the item_weight and its unit in this image?\n",
      "Result :  1.0 kilogram\n",
      "Original :  1 kilogram\n",
      "**************************************************\n"
     ]
    },
    {
     "data": {
      "image/png": "[encoded data removed]",
      "text/plain": [
       "<Figure size 640x480 with 1 Axes>"
      ]
     },
     "metadata": {},
     "output_type": "display_data"
    },
    {
     "name": "stdout",
     "output_type": "stream",
     "text": [
      "Inputs :  {'flattened_patches': tensor([[[1.0000, 1.0000, 0.4974,  ..., 0.4974, 0.4974, 0.4974],\n",
      "         [1.0000, 2.0000, 0.4974,  ..., 0.4974, 0.4974, 0.4974],\n",
      "         [1.0000, 3.0000, 0.4974,  ..., 0.4974, 0.4974, 0.4974],\n",
      "         ...,\n",
      "         [0.0000, 0.0000, 0.0000,  ..., 0.0000, 0.0000, 0.0000],\n",
      "         [0.0000, 0.0000, 0.0000,  ..., 0.0000, 0.0000, 0.0000],\n",
      "         [0.0000, 0.0000, 0.0000,  ..., 0.0000, 0.0000, 0.0000]]]), 'attention_mask': tensor([[1., 1., 1.,  ..., 0., 0., 0.]])}\n",
      "Patches shape:  torch.Size([1, 2048, 770])\n",
      "Attention Mask shape:  torch.Size([1, 2048])\n",
      "Output with labels passed :  Seq2SeqLMOutput(loss=tensor(0.4093, grad_fn=<NllLossBackward0>), logits=tensor([[[-34.7338,  -8.9794, -31.4726,  ..., -19.1693, -19.0398, -18.1438],\n",
      "         [-33.2610, -10.2074, -29.4239,  ..., -20.9093, -20.8219, -20.9975],\n",
      "         [-29.4986,  -9.4750, -26.7431,  ..., -16.7452, -18.2565, -18.9515],\n",
      "         ...,\n",
      "         [ 96.3182,  22.6837,  76.2077,  ...,  53.2038,  53.4378,  38.4022],\n",
      "         [ 88.9518,  22.4035,  69.0062,  ...,  45.2966,  49.5438,  31.0150],\n",
      "         [108.7949,  26.4119,  87.0282,  ...,  62.1226,  66.6622,  44.1139]]],\n",
      "       grad_fn=<UnsafeViewBackward0>), past_key_values=None, decoder_hidden_states=None, decoder_attentions=None, cross_attentions=None, encoder_last_hidden_state=tensor([[[ 0.1082,  0.6711, -0.1039,  ..., -0.6449,  0.1010, -0.2081],\n",
      "         [-0.5252,  0.2547, -0.2132,  ..., -0.3257,  0.4262, -0.3806],\n",
      "         [-0.3199, -0.2929, -0.2556,  ...,  0.0687,  0.4949, -0.0525],\n",
      "         ...,\n",
      "         [ 0.2541,  0.7073, -0.5163,  ...,  0.2755, -0.2378, -0.0131],\n",
      "         [ 0.2541,  0.7073, -0.5163,  ...,  0.2755, -0.2378, -0.0131],\n",
      "         [ 0.2541,  0.7073, -0.5163,  ...,  0.2755, -0.2378, -0.0131]]],\n",
      "       grad_fn=<MulBackward0>), encoder_hidden_states=None, encoder_attentions=None)\n",
      "Loss : tensor(0.4093, grad_fn=<NllLossBackward0>)\n",
      "------------------------------------------------------------\n",
      "Outputs for generate :  tensor([[    0,   273,   279,   279,   278,   274,   278,  2141, 24209,   301,\n",
      "           372,     1]]) tensor([    0,   273,   279,   279,   278,   274,   278,  2141, 24209,   301,\n",
      "          372,     1])\n",
      "Label Encoded as output form :  tensor([[  273,   290,   278,   274,   278,  2141, 24209,   301,   372,     1,\n",
      "             0,     0,     0,     0,     0]])\n",
      "Question :  What is the width and its unit in this image?\n",
      "Result :  220.0 centimetre\n",
      "Original :  50.0 centimetre\n",
      "**************************************************\n"
     ]
    }
   ],
   "source": [
    "random_predict(train_data, model.to(\"cpu\"), processor, 5)"
   ]
  },
  {
   "cell_type": "code",
   "execution_count": null,
   "id": "2647061d",
   "metadata": {
    "papermill": {
     "duration": 4.937534,
     "end_time": "2025-01-18T23:28:34.289030",
     "exception": false,
     "start_time": "2025-01-18T23:28:29.351496",
     "status": "completed"
    },
    "tags": []
   },
   "outputs": [],
   "source": []
  },
  {
   "cell_type": "code",
   "execution_count": null,
   "id": "85594b90",
   "metadata": {
    "papermill": {
     "duration": 4.674475,
     "end_time": "2025-01-18T23:28:43.575984",
     "exception": false,
     "start_time": "2025-01-18T23:28:38.901509",
     "status": "completed"
    },
    "tags": []
   },
   "outputs": [],
   "source": []
  },
  {
   "cell_type": "code",
   "execution_count": null,
   "id": "094e541c",
   "metadata": {
    "papermill": {
     "duration": 4.611273,
     "end_time": "2025-01-18T23:28:53.092102",
     "exception": false,
     "start_time": "2025-01-18T23:28:48.480829",
     "status": "completed"
    },
    "tags": []
   },
   "outputs": [],
   "source": []
  },
  {
   "cell_type": "code",
   "execution_count": null,
   "id": "542c2243",
   "metadata": {
    "papermill": {
     "duration": 4.6205,
     "end_time": "2025-01-18T23:29:02.347989",
     "exception": false,
     "start_time": "2025-01-18T23:28:57.727489",
     "status": "completed"
    },
    "tags": []
   },
   "outputs": [],
   "source": []
  },
  {
   "cell_type": "code",
   "execution_count": null,
   "id": "6764145c",
   "metadata": {
    "papermill": {
     "duration": 4.595755,
     "end_time": "2025-01-18T23:29:11.875695",
     "exception": false,
     "start_time": "2025-01-18T23:29:07.279940",
     "status": "completed"
    },
    "tags": []
   },
   "outputs": [],
   "source": []
  },
  {
   "cell_type": "code",
   "execution_count": null,
   "id": "0dd8a123",
   "metadata": {
    "papermill": {
     "duration": 4.813663,
     "end_time": "2025-01-18T23:29:21.377465",
     "exception": false,
     "start_time": "2025-01-18T23:29:16.563802",
     "status": "completed"
    },
    "tags": []
   },
   "outputs": [],
   "source": []
  },
  {
   "cell_type": "code",
   "execution_count": null,
   "id": "9ada4296",
   "metadata": {
    "papermill": {
     "duration": 4.627658,
     "end_time": "2025-01-18T23:29:30.640177",
     "exception": false,
     "start_time": "2025-01-18T23:29:26.012519",
     "status": "completed"
    },
    "tags": []
   },
   "outputs": [],
   "source": []
  },
  {
   "cell_type": "markdown",
   "id": "3961b655",
   "metadata": {
    "papermill": {
     "duration": 4.621268,
     "end_time": "2025-01-18T23:29:40.197509",
     "exception": false,
     "start_time": "2025-01-18T23:29:35.576241",
     "status": "completed"
    },
    "tags": []
   },
   "source": [
    "---------"
   ]
  },
  {
   "cell_type": "code",
   "execution_count": 21,
   "id": "501aeb28",
   "metadata": {
    "execution": {
     "iopub.execute_input": "2025-01-18T23:29:49.709168Z",
     "iopub.status.busy": "2025-01-18T23:29:49.708813Z",
     "iopub.status.idle": "2025-01-18T23:29:49.715791Z",
     "shell.execute_reply": "2025-01-18T23:29:49.714996Z"
    },
    "papermill": {
     "duration": 4.884696,
     "end_time": "2025-01-18T23:29:49.716942",
     "exception": false,
     "start_time": "2025-01-18T23:29:44.832246",
     "status": "completed"
    },
    "tags": []
   },
   "outputs": [
    {
     "name": "stdout",
     "output_type": "stream",
     "text": [
      "{'pixel_values': torch.Size([1, 3, 224, 224]), 'input_ids': torch.Size([1, 4]), 'attention_mask': torch.Size([1, 4])}\n",
      "{'pixel_values': torch.Size([3, 224, 224]), 'input_ids': torch.Size([4]), 'attention_mask': torch.Size([4])}\n"
     ]
    }
   ],
   "source": [
    "import torch\n",
    "\n",
    "# Example encoding dictionary with batch dimension\n",
    "encoding = {\n",
    "    \"pixel_values\": torch.randn(1, 3, 224, 224),  # Shape (1, 3, 224, 224)\n",
    "    \"input_ids\": torch.tensor([[101, 2054, 2003, 102]]),  # Shape (1, 4)\n",
    "    \"attention_mask\": torch.tensor([[1, 1, 1, 1]])  # Shape (1, 4)\n",
    "}\n",
    "\n",
    "# Remove the batch dimension\n",
    "print({k: v.shape for k, v in encoding.items()})\n",
    "encoding = {k: v.squeeze(0) for k, v in encoding.items()}\n",
    "\n",
    "print({k: v.shape for k, v in encoding.items()})"
   ]
  },
  {
   "cell_type": "code",
   "execution_count": 22,
   "id": "4b142415",
   "metadata": {
    "execution": {
     "iopub.execute_input": "2025-01-18T23:29:58.985968Z",
     "iopub.status.busy": "2025-01-18T23:29:58.985633Z",
     "iopub.status.idle": "2025-01-18T23:29:58.991216Z",
     "shell.execute_reply": "2025-01-18T23:29:58.990511Z"
    },
    "papermill": {
     "duration": 4.607151,
     "end_time": "2025-01-18T23:29:58.992503",
     "exception": false,
     "start_time": "2025-01-18T23:29:54.385352",
     "status": "completed"
    },
    "tags": []
   },
   "outputs": [
    {
     "data": {
      "text/plain": [
       "{'input_ids': [273, 277, 279, 278, 37154, 19743, 1, 0, 0, 0, 0, 0, 0, 0, 0], 'attention_mask': [1, 1, 1, 1, 1, 1, 1, 0, 0, 0, 0, 0, 0, 0, 0]}"
      ]
     },
     "execution_count": 22,
     "metadata": {},
     "output_type": "execute_result"
    }
   ],
   "source": [
    "processor_1.tokenizer(\"120 kilogram\", padding=\"max_length\", truncation=True, max_length=15, split_special_tokens=True)"
   ]
  },
  {
   "cell_type": "code",
   "execution_count": 23,
   "id": "202aa97d",
   "metadata": {
    "execution": {
     "iopub.execute_input": "2025-01-18T23:30:08.599412Z",
     "iopub.status.busy": "2025-01-18T23:30:08.599051Z",
     "iopub.status.idle": "2025-01-18T23:30:12.452368Z",
     "shell.execute_reply": "2025-01-18T23:30:12.451474Z"
    },
    "papermill": {
     "duration": 8.787597,
     "end_time": "2025-01-18T23:30:12.453875",
     "exception": false,
     "start_time": "2025-01-18T23:30:03.666278",
     "status": "completed"
    },
    "tags": []
   },
   "outputs": [
    {
     "data": {
      "text/plain": [
       "{'flattened_patches': [array([[ 1.        ,  1.        ,  1.0312618 , ...,  0.5284742 ,\n",
       "        -0.24558586, -0.5234234 ],\n",
       "       [ 1.        ,  2.        ,  1.0312618 , ...,  0.57453096,\n",
       "         0.04517085,  0.2339511 ],\n",
       "       [ 1.        ,  3.        ,  1.0312618 , ...,  0.6851243 ,\n",
       "         0.31489345,  0.07441761],\n",
       "       ...,\n",
       "       [ 0.        ,  0.        ,  0.        , ...,  0.        ,\n",
       "         0.        ,  0.        ],\n",
       "       [ 0.        ,  0.        ,  0.        , ...,  0.        ,\n",
       "         0.        ,  0.        ],\n",
       "       [ 0.        ,  0.        ,  0.        , ...,  0.        ,\n",
       "         0.        ,  0.        ]], dtype=float32)], 'attention_mask': [array([1., 1., 1., ..., 0., 0., 0.], dtype=float32)]}"
      ]
     },
     "execution_count": 23,
     "metadata": {},
     "output_type": "execute_result"
    }
   ],
   "source": [
    "inputs = processor_1(images=torch.rand(size=(3, 224, 224)), text=\"Sup\", \n",
    "                padding='max_length', truncation=True, max_length=15)\n",
    "inputs"
   ]
  },
  {
   "cell_type": "code",
   "execution_count": 24,
   "id": "f064a7b4",
   "metadata": {
    "execution": {
     "iopub.execute_input": "2025-01-18T23:30:21.702102Z",
     "iopub.status.busy": "2025-01-18T23:30:21.701773Z",
     "iopub.status.idle": "2025-01-18T23:30:21.708187Z",
     "shell.execute_reply": "2025-01-18T23:30:21.707259Z"
    },
    "papermill": {
     "duration": 4.621072,
     "end_time": "2025-01-18T23:30:21.709468",
     "exception": false,
     "start_time": "2025-01-18T23:30:17.088396",
     "status": "completed"
    },
    "tags": []
   },
   "outputs": [
    {
     "name": "stdout",
     "output_type": "stream",
     "text": [
      "Pix2StructConfig {\n",
      "  \"_name_or_path\": \"google/pix2struct-docvqa-base\",\n",
      "  \"architectures\": [\n",
      "    \"Pix2StructForConditionalGeneration\"\n",
      "  ],\n",
      "  \"decoder_start_token_id\": 0,\n",
      "  \"eos_token_id\": 1,\n",
      "  \"initializer_factor\": 1.0,\n",
      "  \"initializer_range\": 0.02,\n",
      "  \"is_encoder_decoder\": true,\n",
      "  \"is_vqa\": false,\n",
      "  \"model_type\": \"pix2struct\",\n",
      "  \"pad_token_id\": 0,\n",
      "  \"text_config\": {\n",
      "    \"encoder_hidden_size\": 768,\n",
      "    \"initializer_range\": 0.02,\n",
      "    \"model_type\": \"pix2struct_text_model\"\n",
      "  },\n",
      "  \"tie_word_embeddings\": false,\n",
      "  \"torch_dtype\": \"float32\",\n",
      "  \"transformers_version\": \"4.44.2\",\n",
      "  \"vision_config\": {\n",
      "    \"initializer_range\": 0.02,\n",
      "    \"layer_norm_bias\": false,\n",
      "    \"model_type\": \"pix2struct_vision_model\",\n",
      "    \"num_channels\": 3,\n",
      "    \"patch_size\": 16,\n",
      "    \"projection_dim\": 768\n",
      "  }\n",
      "}\n",
      "\n"
     ]
    }
   ],
   "source": [
    "print(model.config)"
   ]
  },
  {
   "cell_type": "code",
   "execution_count": null,
   "id": "7f8edde8",
   "metadata": {
    "papermill": {
     "duration": 4.585499,
     "end_time": "2025-01-18T23:30:31.140651",
     "exception": false,
     "start_time": "2025-01-18T23:30:26.555152",
     "status": "completed"
    },
    "tags": []
   },
   "outputs": [],
   "source": []
  }
 ],
 "metadata": {
  "kaggle": {
   "accelerator": "gpu",
   "dataSources": [
    {
     "datasetId": 6458582,
     "sourceId": 10420560,
     "sourceType": "datasetVersion"
    },
    {
     "datasetId": 6459257,
     "sourceId": 10421484,
     "sourceType": "datasetVersion"
    }
   ],
   "dockerImageVersionId": 30823,
   "isGpuEnabled": true,
   "isInternetEnabled": true,
   "language": "python",
   "sourceType": "notebook"
  },
  "kernelspec": {
   "display_name": "Python 3",
   "language": "python",
   "name": "python3"
  },
  "language_info": {
   "codemirror_mode": {
    "name": "ipython",
    "version": 3
   },
   "file_extension": ".py",
   "mimetype": "text/x-python",
   "name": "python",
   "nbconvert_exporter": "python",
   "pygments_lexer": "ipython3",
   "version": "3.10.12"
  },
  "papermill": {
   "default_parameters": {},
   "duration": 35824.928956,
   "end_time": "2025-01-18T23:30:39.329552",
   "environment_variables": {},
   "exception": null,
   "input_path": "__notebook__.ipynb",
   "output_path": "__notebook__.ipynb",
   "parameters": {},
   "start_time": "2025-01-18T13:33:34.400596",
   "version": "2.6.0"
  },
  "widgets": {
   "application/vnd.jupyter.widget-state+json": {
    "state": {
     "0043b389978445959722df1342176643": {
      "model_module": "@jupyter-widgets/controls",
      "model_module_version": "2.0.0",
      "model_name": "ProgressStyleModel",
      "state": {
       "_model_module": "@jupyter-widgets/controls",
       "_model_module_version": "2.0.0",
       "_model_name": "ProgressStyleModel",
       "_view_count": null,
       "_view_module": "@jupyter-widgets/base",
       "_view_module_version": "2.0.0",
       "_view_name": "StyleView",
       "bar_color": null,
       "description_width": ""
      }
     },
     "06152e7adee246b7843b2d5cc4b907d1": {
      "model_module": "@jupyter-widgets/controls",
      "model_module_version": "2.0.0",
      "model_name": "HTMLStyleModel",
      "state": {
       "_model_module": "@jupyter-widgets/controls",
       "_model_module_version": "2.0.0",
       "_model_name": "HTMLStyleModel",
       "_view_count": null,
       "_view_module": "@jupyter-widgets/base",
       "_view_module_version": "2.0.0",
       "_view_name": "StyleView",
       "background": null,
       "description_width": "",
       "font_size": null,
       "text_color": null
      }
     },
     "07a4289c4b1a4491be152e9da98db8e9": {
      "model_module": "@jupyter-widgets/base",
      "model_module_version": "2.0.0",
      "model_name": "LayoutModel",
      "state": {
       "_model_module": "@jupyter-widgets/base",
       "_model_module_version": "2.0.0",
       "_model_name": "LayoutModel",
       "_view_count": null,
       "_view_module": "@jupyter-widgets/base",
       "_view_module_version": "2.0.0",
       "_view_name": "LayoutView",
       "align_content": null,
       "align_items": null,
       "align_self": null,
       "border_bottom": null,
       "border_left": null,
       "border_right": null,
       "border_top": null,
       "bottom": null,
       "display": null,
       "flex": null,
       "flex_flow": null,
       "grid_area": null,
       "grid_auto_columns": null,
       "grid_auto_flow": null,
       "grid_auto_rows": null,
       "grid_column": null,
       "grid_gap": null,
       "grid_row": null,
       "grid_template_areas": null,
       "grid_template_columns": null,
       "grid_template_rows": null,
       "height": null,
       "justify_content": null,
       "justify_items": null,
       "left": null,
       "margin": null,
       "max_height": null,
       "max_width": null,
       "min_height": null,
       "min_width": null,
       "object_fit": null,
       "object_position": null,
       "order": null,
       "overflow": null,
       "padding": null,
       "right": null,
       "top": null,
       "visibility": null,
       "width": null
      }
     },
     "07d969e6c60d4744ac61d81ae08f16ac": {
      "model_module": "@jupyter-widgets/controls",
      "model_module_version": "2.0.0",
      "model_name": "HTMLStyleModel",
      "state": {
       "_model_module": "@jupyter-widgets/controls",
       "_model_module_version": "2.0.0",
       "_model_name": "HTMLStyleModel",
       "_view_count": null,
       "_view_module": "@jupyter-widgets/base",
       "_view_module_version": "2.0.0",
       "_view_name": "StyleView",
       "background": null,
       "description_width": "",
       "font_size": null,
       "text_color": null
      }
     },
     "08b75e1202c2488182944ed055dd4175": {
      "model_module": "@jupyter-widgets/controls",
      "model_module_version": "2.0.0",
      "model_name": "HBoxModel",
      "state": {
       "_dom_classes": [],
       "_model_module": "@jupyter-widgets/controls",
       "_model_module_version": "2.0.0",
       "_model_name": "HBoxModel",
       "_view_count": null,
       "_view_module": "@jupyter-widgets/controls",
       "_view_module_version": "2.0.0",
       "_view_name": "HBoxView",
       "box_style": "",
       "children": [
        "IPY_MODEL_c0307dbb826d4104a5ca84448b21fdda",
        "IPY_MODEL_e0318cba00f1488d8566028d6f7a2160",
        "IPY_MODEL_602f54448bf74b3d81b6da6ce51ee496"
       ],
       "layout": "IPY_MODEL_f699d42a8e4f4b81853ba040312fbf6c",
       "tabbable": null,
       "tooltip": null
      }
     },
     "0cb32b95b24347b1b5d8b1e5dea45be4": {
      "model_module": "@jupyter-widgets/controls",
      "model_module_version": "2.0.0",
      "model_name": "FloatProgressModel",
      "state": {
       "_dom_classes": [],
       "_model_module": "@jupyter-widgets/controls",
       "_model_module_version": "2.0.0",
       "_model_name": "FloatProgressModel",
       "_view_count": null,
       "_view_module": "@jupyter-widgets/controls",
       "_view_module_version": "2.0.0",
       "_view_name": "ProgressView",
       "bar_style": "success",
       "description": "",
       "description_allow_html": false,
       "layout": "IPY_MODEL_3e7733565199420ba4d1ce781766023a",
       "max": 2583.0,
       "min": 0.0,
       "orientation": "horizontal",
       "style": "IPY_MODEL_15a5425b720244ffa54b423c4d73b10a",
       "tabbable": null,
       "tooltip": null,
       "value": 2583.0
      }
     },
     "0ef4c814c0dd4c409034a68fc1e6faa1": {
      "model_module": "@jupyter-widgets/base",
      "model_module_version": "2.0.0",
      "model_name": "LayoutModel",
      "state": {
       "_model_module": "@jupyter-widgets/base",
       "_model_module_version": "2.0.0",
       "_model_name": "LayoutModel",
       "_view_count": null,
       "_view_module": "@jupyter-widgets/base",
       "_view_module_version": "2.0.0",
       "_view_name": "LayoutView",
       "align_content": null,
       "align_items": null,
       "align_self": null,
       "border_bottom": null,
       "border_left": null,
       "border_right": null,
       "border_top": null,
       "bottom": null,
       "display": null,
       "flex": null,
       "flex_flow": null,
       "grid_area": null,
       "grid_auto_columns": null,
       "grid_auto_flow": null,
       "grid_auto_rows": null,
       "grid_column": null,
       "grid_gap": null,
       "grid_row": null,
       "grid_template_areas": null,
       "grid_template_columns": null,
       "grid_template_rows": null,
       "height": null,
       "justify_content": null,
       "justify_items": null,
       "left": null,
       "margin": null,
       "max_height": null,
       "max_width": null,
       "min_height": null,
       "min_width": null,
       "object_fit": null,
       "object_position": null,
       "order": null,
       "overflow": null,
       "padding": null,
       "right": null,
       "top": null,
       "visibility": null,
       "width": null
      }
     },
     "10cf250a97194d1b911dcd38407b95df": {
      "model_module": "@jupyter-widgets/base",
      "model_module_version": "2.0.0",
      "model_name": "LayoutModel",
      "state": {
       "_model_module": "@jupyter-widgets/base",
       "_model_module_version": "2.0.0",
       "_model_name": "LayoutModel",
       "_view_count": null,
       "_view_module": "@jupyter-widgets/base",
       "_view_module_version": "2.0.0",
       "_view_name": "LayoutView",
       "align_content": null,
       "align_items": null,
       "align_self": null,
       "border_bottom": null,
       "border_left": null,
       "border_right": null,
       "border_top": null,
       "bottom": null,
       "display": null,
       "flex": null,
       "flex_flow": null,
       "grid_area": null,
       "grid_auto_columns": null,
       "grid_auto_flow": null,
       "grid_auto_rows": null,
       "grid_column": null,
       "grid_gap": null,
       "grid_row": null,
       "grid_template_areas": null,
       "grid_template_columns": null,
       "grid_template_rows": null,
       "height": null,
       "justify_content": null,
       "justify_items": null,
       "left": null,
       "margin": null,
       "max_height": null,
       "max_width": null,
       "min_height": null,
       "min_width": null,
       "object_fit": null,
       "object_position": null,
       "order": null,
       "overflow": null,
       "padding": null,
       "right": null,
       "top": null,
       "visibility": null,
       "width": null
      }
     },
     "1105b5673b744d849979d3c723dab1a5": {
      "model_module": "@jupyter-widgets/controls",
      "model_module_version": "2.0.0",
      "model_name": "HTMLStyleModel",
      "state": {
       "_model_module": "@jupyter-widgets/controls",
       "_model_module_version": "2.0.0",
       "_model_name": "HTMLStyleModel",
       "_view_count": null,
       "_view_module": "@jupyter-widgets/base",
       "_view_module_version": "2.0.0",
       "_view_name": "StyleView",
       "background": null,
       "description_width": "",
       "font_size": null,
       "text_color": null
      }
     },
     "11dbaa578c384cefaf39f493ae2e14f0": {
      "model_module": "@jupyter-widgets/controls",
      "model_module_version": "2.0.0",
      "model_name": "ProgressStyleModel",
      "state": {
       "_model_module": "@jupyter-widgets/controls",
       "_model_module_version": "2.0.0",
       "_model_name": "ProgressStyleModel",
       "_view_count": null,
       "_view_module": "@jupyter-widgets/base",
       "_view_module_version": "2.0.0",
       "_view_name": "StyleView",
       "bar_color": null,
       "description_width": ""
      }
     },
     "15a5425b720244ffa54b423c4d73b10a": {
      "model_module": "@jupyter-widgets/controls",
      "model_module_version": "2.0.0",
      "model_name": "ProgressStyleModel",
      "state": {
       "_model_module": "@jupyter-widgets/controls",
       "_model_module_version": "2.0.0",
       "_model_name": "ProgressStyleModel",
       "_view_count": null,
       "_view_module": "@jupyter-widgets/base",
       "_view_module_version": "2.0.0",
       "_view_name": "StyleView",
       "bar_color": null,
       "description_width": ""
      }
     },
     "175fd02ae4944ee4b1ed3179a8479f4e": {
      "model_module": "@jupyter-widgets/controls",
      "model_module_version": "2.0.0",
      "model_name": "ProgressStyleModel",
      "state": {
       "_model_module": "@jupyter-widgets/controls",
       "_model_module_version": "2.0.0",
       "_model_name": "ProgressStyleModel",
       "_view_count": null,
       "_view_module": "@jupyter-widgets/base",
       "_view_module_version": "2.0.0",
       "_view_name": "StyleView",
       "bar_color": null,
       "description_width": ""
      }
     },
     "1c01b3a114dc4b9290bb48c311af7fe1": {
      "model_module": "@jupyter-widgets/controls",
      "model_module_version": "2.0.0",
      "model_name": "FloatProgressModel",
      "state": {
       "_dom_classes": [],
       "_model_module": "@jupyter-widgets/controls",
       "_model_module_version": "2.0.0",
       "_model_name": "FloatProgressModel",
       "_view_count": null,
       "_view_module": "@jupyter-widgets/controls",
       "_view_module_version": "2.0.0",
       "_view_name": "ProgressView",
       "bar_style": "success",
       "description": "",
       "description_allow_html": false,
       "layout": "IPY_MODEL_10cf250a97194d1b911dcd38407b95df",
       "max": 851388.0,
       "min": 0.0,
       "orientation": "horizontal",
       "style": "IPY_MODEL_f7fba7b664344a11ac1b16b6af8ae475",
       "tabbable": null,
       "tooltip": null,
       "value": 851388.0
      }
     },
     "2018f2adf33e4f32a7c1e3b52bf7b54e": {
      "model_module": "@jupyter-widgets/controls",
      "model_module_version": "2.0.0",
      "model_name": "HBoxModel",
      "state": {
       "_dom_classes": [],
       "_model_module": "@jupyter-widgets/controls",
       "_model_module_version": "2.0.0",
       "_model_name": "HBoxModel",
       "_view_count": null,
       "_view_module": "@jupyter-widgets/controls",
       "_view_module_version": "2.0.0",
       "_view_name": "HBoxView",
       "box_style": "",
       "children": [
        "IPY_MODEL_d557f968b82b442bb9a944cff3d6386e",
        "IPY_MODEL_92931a9e97dc4bf8937d7c2ea62fa034",
        "IPY_MODEL_559c3fc2e38445bb8a3a0c46c5096720"
       ],
       "layout": "IPY_MODEL_d7ace269b5e1496b9d1dd142d69614c8",
       "tabbable": null,
       "tooltip": null
      }
     },
     "22218e94251e4411a3f2e3e3679ef314": {
      "model_module": "@jupyter-widgets/controls",
      "model_module_version": "2.0.0",
      "model_name": "HBoxModel",
      "state": {
       "_dom_classes": [],
       "_model_module": "@jupyter-widgets/controls",
       "_model_module_version": "2.0.0",
       "_model_name": "HBoxModel",
       "_view_count": null,
       "_view_module": "@jupyter-widgets/controls",
       "_view_module_version": "2.0.0",
       "_view_name": "HBoxView",
       "box_style": "",
       "children": [
        "IPY_MODEL_74fe99f79ea949bca57a0e8c3a8c9227",
        "IPY_MODEL_0cb32b95b24347b1b5d8b1e5dea45be4",
        "IPY_MODEL_42852492757f442bbf89e509e2ca370f"
       ],
       "layout": "IPY_MODEL_4cb24240befb4724897cae9c700968cd",
       "tabbable": null,
       "tooltip": null
      }
     },
     "2e092a635e3944d3880b700a8b565197": {
      "model_module": "@jupyter-widgets/controls",
      "model_module_version": "2.0.0",
      "model_name": "HTMLModel",
      "state": {
       "_dom_classes": [],
       "_model_module": "@jupyter-widgets/controls",
       "_model_module_version": "2.0.0",
       "_model_name": "HTMLModel",
       "_view_count": null,
       "_view_module": "@jupyter-widgets/controls",
       "_view_module_version": "2.0.0",
       "_view_name": "HTMLView",
       "description": "",
       "description_allow_html": false,
       "layout": "IPY_MODEL_8b64a6c4e93546fc8f121976ed971e32",
       "placeholder": "​",
       "style": "IPY_MODEL_39fcb849380e4199ab86eae49007b710",
       "tabbable": null,
       "tooltip": null,
       "value": "Arial.TTF: 100%"
      }
     },
     "2ef7e7018ae742a8b75f9b095ee6ff43": {
      "model_module": "@jupyter-widgets/base",
      "model_module_version": "2.0.0",
      "model_name": "LayoutModel",
      "state": {
       "_model_module": "@jupyter-widgets/base",
       "_model_module_version": "2.0.0",
       "_model_name": "LayoutModel",
       "_view_count": null,
       "_view_module": "@jupyter-widgets/base",
       "_view_module_version": "2.0.0",
       "_view_name": "LayoutView",
       "align_content": null,
       "align_items": null,
       "align_self": null,
       "border_bottom": null,
       "border_left": null,
       "border_right": null,
       "border_top": null,
       "bottom": null,
       "display": null,
       "flex": null,
       "flex_flow": null,
       "grid_area": null,
       "grid_auto_columns": null,
       "grid_auto_flow": null,
       "grid_auto_rows": null,
       "grid_column": null,
       "grid_gap": null,
       "grid_row": null,
       "grid_template_areas": null,
       "grid_template_columns": null,
       "grid_template_rows": null,
       "height": null,
       "justify_content": null,
       "justify_items": null,
       "left": null,
       "margin": null,
       "max_height": null,
       "max_width": null,
       "min_height": null,
       "min_width": null,
       "object_fit": null,
       "object_position": null,
       "order": null,
       "overflow": null,
       "padding": null,
       "right": null,
       "top": null,
       "visibility": null,
       "width": null
      }
     },
     "32d38952a8f14d659cf02427b1eb4e5b": {
      "model_module": "@jupyter-widgets/controls",
      "model_module_version": "2.0.0",
      "model_name": "HBoxModel",
      "state": {
       "_dom_classes": [],
       "_model_module": "@jupyter-widgets/controls",
       "_model_module_version": "2.0.0",
       "_model_name": "HBoxModel",
       "_view_count": null,
       "_view_module": "@jupyter-widgets/controls",
       "_view_module_version": "2.0.0",
       "_view_name": "HBoxView",
       "box_style": "",
       "children": [
        "IPY_MODEL_58a95addd49a43ce926ae665f51fe4c7",
        "IPY_MODEL_7c8079c74473431cbced4ce17b50626f",
        "IPY_MODEL_fcc84c9131af42f197df2a71eb4f2887"
       ],
       "layout": "IPY_MODEL_af7a83eb5afa40d08bdb4901516fe553",
       "tabbable": null,
       "tooltip": null
      }
     },
     "333c411eeb654af9ae1c923b66430dcb": {
      "model_module": "@jupyter-widgets/base",
      "model_module_version": "2.0.0",
      "model_name": "LayoutModel",
      "state": {
       "_model_module": "@jupyter-widgets/base",
       "_model_module_version": "2.0.0",
       "_model_name": "LayoutModel",
       "_view_count": null,
       "_view_module": "@jupyter-widgets/base",
       "_view_module_version": "2.0.0",
       "_view_name": "LayoutView",
       "align_content": null,
       "align_items": null,
       "align_self": null,
       "border_bottom": null,
       "border_left": null,
       "border_right": null,
       "border_top": null,
       "bottom": null,
       "display": null,
       "flex": null,
       "flex_flow": null,
       "grid_area": null,
       "grid_auto_columns": null,
       "grid_auto_flow": null,
       "grid_auto_rows": null,
       "grid_column": null,
       "grid_gap": null,
       "grid_row": null,
       "grid_template_areas": null,
       "grid_template_columns": null,
       "grid_template_rows": null,
       "height": null,
       "justify_content": null,
       "justify_items": null,
       "left": null,
       "margin": null,
       "max_height": null,
       "max_width": null,
       "min_height": null,
       "min_width": null,
       "object_fit": null,
       "object_position": null,
       "order": null,
       "overflow": null,
       "padding": null,
       "right": null,
       "top": null,
       "visibility": null,
       "width": null
      }
     },
     "39fcb849380e4199ab86eae49007b710": {
      "model_module": "@jupyter-widgets/controls",
      "model_module_version": "2.0.0",
      "model_name": "HTMLStyleModel",
      "state": {
       "_model_module": "@jupyter-widgets/controls",
       "_model_module_version": "2.0.0",
       "_model_name": "HTMLStyleModel",
       "_view_count": null,
       "_view_module": "@jupyter-widgets/base",
       "_view_module_version": "2.0.0",
       "_view_name": "StyleView",
       "background": null,
       "description_width": "",
       "font_size": null,
       "text_color": null
      }
     },
     "3bd9367d8b0047b6b4611e94419eae4c": {
      "model_module": "@jupyter-widgets/base",
      "model_module_version": "2.0.0",
      "model_name": "LayoutModel",
      "state": {
       "_model_module": "@jupyter-widgets/base",
       "_model_module_version": "2.0.0",
       "_model_name": "LayoutModel",
       "_view_count": null,
       "_view_module": "@jupyter-widgets/base",
       "_view_module_version": "2.0.0",
       "_view_name": "LayoutView",
       "align_content": null,
       "align_items": null,
       "align_self": null,
       "border_bottom": null,
       "border_left": null,
       "border_right": null,
       "border_top": null,
       "bottom": null,
       "display": null,
       "flex": null,
       "flex_flow": null,
       "grid_area": null,
       "grid_auto_columns": null,
       "grid_auto_flow": null,
       "grid_auto_rows": null,
       "grid_column": null,
       "grid_gap": null,
       "grid_row": null,
       "grid_template_areas": null,
       "grid_template_columns": null,
       "grid_template_rows": null,
       "height": null,
       "justify_content": null,
       "justify_items": null,
       "left": null,
       "margin": null,
       "max_height": null,
       "max_width": null,
       "min_height": null,
       "min_width": null,
       "object_fit": null,
       "object_position": null,
       "order": null,
       "overflow": null,
       "padding": null,
       "right": null,
       "top": null,
       "visibility": null,
       "width": null
      }
     },
     "3e7733565199420ba4d1ce781766023a": {
      "model_module": "@jupyter-widgets/base",
      "model_module_version": "2.0.0",
      "model_name": "LayoutModel",
      "state": {
       "_model_module": "@jupyter-widgets/base",
       "_model_module_version": "2.0.0",
       "_model_name": "LayoutModel",
       "_view_count": null,
       "_view_module": "@jupyter-widgets/base",
       "_view_module_version": "2.0.0",
       "_view_name": "LayoutView",
       "align_content": null,
       "align_items": null,
       "align_self": null,
       "border_bottom": null,
       "border_left": null,
       "border_right": null,
       "border_top": null,
       "bottom": null,
       "display": null,
       "flex": null,
       "flex_flow": null,
       "grid_area": null,
       "grid_auto_columns": null,
       "grid_auto_flow": null,
       "grid_auto_rows": null,
       "grid_column": null,
       "grid_gap": null,
       "grid_row": null,
       "grid_template_areas": null,
       "grid_template_columns": null,
       "grid_template_rows": null,
       "height": null,
       "justify_content": null,
       "justify_items": null,
       "left": null,
       "margin": null,
       "max_height": null,
       "max_width": null,
       "min_height": null,
       "min_width": null,
       "object_fit": null,
       "object_position": null,
       "order": null,
       "overflow": null,
       "padding": null,
       "right": null,
       "top": null,
       "visibility": null,
       "width": null
      }
     },
     "3faa19f17c6d42e7917eec6383379a63": {
      "model_module": "@jupyter-widgets/controls",
      "model_module_version": "2.0.0",
      "model_name": "HBoxModel",
      "state": {
       "_dom_classes": [],
       "_model_module": "@jupyter-widgets/controls",
       "_model_module_version": "2.0.0",
       "_model_name": "HBoxModel",
       "_view_count": null,
       "_view_module": "@jupyter-widgets/controls",
       "_view_module_version": "2.0.0",
       "_view_name": "HBoxView",
       "box_style": "",
       "children": [
        "IPY_MODEL_e2acd8ed575c4827ae2442c6c8ab9955",
        "IPY_MODEL_b8cb7657db3b4409ac995afe37928cc0",
        "IPY_MODEL_d6f51aaefb544aa18c669d78b4325a1c"
       ],
       "layout": "IPY_MODEL_868cfaa40368408bb8dfea876d5ce110",
       "tabbable": null,
       "tooltip": null
      }
     },
     "41c2772975fb4c8e9966673c3629a41f": {
      "model_module": "@jupyter-widgets/controls",
      "model_module_version": "2.0.0",
      "model_name": "HTMLStyleModel",
      "state": {
       "_model_module": "@jupyter-widgets/controls",
       "_model_module_version": "2.0.0",
       "_model_name": "HTMLStyleModel",
       "_view_count": null,
       "_view_module": "@jupyter-widgets/base",
       "_view_module_version": "2.0.0",
       "_view_name": "StyleView",
       "background": null,
       "description_width": "",
       "font_size": null,
       "text_color": null
      }
     },
     "42852492757f442bbf89e509e2ca370f": {
      "model_module": "@jupyter-widgets/controls",
      "model_module_version": "2.0.0",
      "model_name": "HTMLModel",
      "state": {
       "_dom_classes": [],
       "_model_module": "@jupyter-widgets/controls",
       "_model_module_version": "2.0.0",
       "_model_name": "HTMLModel",
       "_view_count": null,
       "_view_module": "@jupyter-widgets/controls",
       "_view_module_version": "2.0.0",
       "_view_name": "HTMLView",
       "description": "",
       "description_allow_html": false,
       "layout": "IPY_MODEL_86279407798b422d8ba31b24293d5ff9",
       "placeholder": "​",
       "style": "IPY_MODEL_f5f1446824e1478db1cbb8d7821ae8a8",
       "tabbable": null,
       "tooltip": null,
       "value": " 2.58k/2.58k [00:00&lt;00:00, 279kB/s]"
      }
     },
     "4416c3b8238d493dbc1321e751f1d8a8": {
      "model_module": "@jupyter-widgets/controls",
      "model_module_version": "2.0.0",
      "model_name": "HTMLModel",
      "state": {
       "_dom_classes": [],
       "_model_module": "@jupyter-widgets/controls",
       "_model_module_version": "2.0.0",
       "_model_name": "HTMLModel",
       "_view_count": null,
       "_view_module": "@jupyter-widgets/controls",
       "_view_module_version": "2.0.0",
       "_view_name": "HTMLView",
       "description": "",
       "description_allow_html": false,
       "layout": "IPY_MODEL_07a4289c4b1a4491be152e9da98db8e9",
       "placeholder": "​",
       "style": "IPY_MODEL_f7121c89f3fb4ec4a2d6d7abe0d90e0d",
       "tabbable": null,
       "tooltip": null,
       "value": " 276k/276k [00:00&lt;00:00, 4.52MB/s]"
      }
     },
     "45225a7de3d44a2daba2c5296192b5e5": {
      "model_module": "@jupyter-widgets/base",
      "model_module_version": "2.0.0",
      "model_name": "LayoutModel",
      "state": {
       "_model_module": "@jupyter-widgets/base",
       "_model_module_version": "2.0.0",
       "_model_name": "LayoutModel",
       "_view_count": null,
       "_view_module": "@jupyter-widgets/base",
       "_view_module_version": "2.0.0",
       "_view_name": "LayoutView",
       "align_content": null,
       "align_items": null,
       "align_self": null,
       "border_bottom": null,
       "border_left": null,
       "border_right": null,
       "border_top": null,
       "bottom": null,
       "display": null,
       "flex": null,
       "flex_flow": null,
       "grid_area": null,
       "grid_auto_columns": null,
       "grid_auto_flow": null,
       "grid_auto_rows": null,
       "grid_column": null,
       "grid_gap": null,
       "grid_row": null,
       "grid_template_areas": null,
       "grid_template_columns": null,
       "grid_template_rows": null,
       "height": null,
       "justify_content": null,
       "justify_items": null,
       "left": null,
       "margin": null,
       "max_height": null,
       "max_width": null,
       "min_height": null,
       "min_width": null,
       "object_fit": null,
       "object_position": null,
       "order": null,
       "overflow": null,
       "padding": null,
       "right": null,
       "top": null,
       "visibility": null,
       "width": null
      }
     },
     "462f9b3c0891403ea7776ce14e0e09ce": {
      "model_module": "@jupyter-widgets/controls",
      "model_module_version": "2.0.0",
      "model_name": "HTMLModel",
      "state": {
       "_dom_classes": [],
       "_model_module": "@jupyter-widgets/controls",
       "_model_module_version": "2.0.0",
       "_model_name": "HTMLModel",
       "_view_count": null,
       "_view_module": "@jupyter-widgets/controls",
       "_view_module_version": "2.0.0",
       "_view_name": "HTMLView",
       "description": "",
       "description_allow_html": false,
       "layout": "IPY_MODEL_f5bc559d8e274c13a07c4a14646b09ab",
       "placeholder": "​",
       "style": "IPY_MODEL_95600cd9521d4f82b63adbfb5bd5c445",
       "tabbable": null,
       "tooltip": null,
       "value": " 249/249 [00:00&lt;00:00, 25.0kB/s]"
      }
     },
     "4cb24240befb4724897cae9c700968cd": {
      "model_module": "@jupyter-widgets/base",
      "model_module_version": "2.0.0",
      "model_name": "LayoutModel",
      "state": {
       "_model_module": "@jupyter-widgets/base",
       "_model_module_version": "2.0.0",
       "_model_name": "LayoutModel",
       "_view_count": null,
       "_view_module": "@jupyter-widgets/base",
       "_view_module_version": "2.0.0",
       "_view_name": "LayoutView",
       "align_content": null,
       "align_items": null,
       "align_self": null,
       "border_bottom": null,
       "border_left": null,
       "border_right": null,
       "border_top": null,
       "bottom": null,
       "display": null,
       "flex": null,
       "flex_flow": null,
       "grid_area": null,
       "grid_auto_columns": null,
       "grid_auto_flow": null,
       "grid_auto_rows": null,
       "grid_column": null,
       "grid_gap": null,
       "grid_row": null,
       "grid_template_areas": null,
       "grid_template_columns": null,
       "grid_template_rows": null,
       "height": null,
       "justify_content": null,
       "justify_items": null,
       "left": null,
       "margin": null,
       "max_height": null,
       "max_width": null,
       "min_height": null,
       "min_width": null,
       "object_fit": null,
       "object_position": null,
       "order": null,
       "overflow": null,
       "padding": null,
       "right": null,
       "top": null,
       "visibility": null,
       "width": null
      }
     },
     "4fa420bd83b54c558b18cfc1fe071136": {
      "model_module": "@jupyter-widgets/controls",
      "model_module_version": "2.0.0",
      "model_name": "HTMLStyleModel",
      "state": {
       "_model_module": "@jupyter-widgets/controls",
       "_model_module_version": "2.0.0",
       "_model_name": "HTMLStyleModel",
       "_view_count": null,
       "_view_module": "@jupyter-widgets/base",
       "_view_module_version": "2.0.0",
       "_view_name": "StyleView",
       "background": null,
       "description_width": "",
       "font_size": null,
       "text_color": null
      }
     },
     "4faa4c75458e41b0a6c290e2ac0a25a9": {
      "model_module": "@jupyter-widgets/controls",
      "model_module_version": "2.0.0",
      "model_name": "FloatProgressModel",
      "state": {
       "_dom_classes": [],
       "_model_module": "@jupyter-widgets/controls",
       "_model_module_version": "2.0.0",
       "_model_name": "FloatProgressModel",
       "_view_count": null,
       "_view_module": "@jupyter-widgets/controls",
       "_view_module_version": "2.0.0",
       "_view_name": "ProgressView",
       "bar_style": "success",
       "description": "",
       "description_allow_html": false,
       "layout": "IPY_MODEL_72718cf3961c41cbaed9a7326d7a5ebf",
       "max": 249.0,
       "min": 0.0,
       "orientation": "horizontal",
       "style": "IPY_MODEL_175fd02ae4944ee4b1ed3179a8479f4e",
       "tabbable": null,
       "tooltip": null,
       "value": 249.0
      }
     },
     "533e306bca504af685c9a9a04331538f": {
      "model_module": "@jupyter-widgets/base",
      "model_module_version": "2.0.0",
      "model_name": "LayoutModel",
      "state": {
       "_model_module": "@jupyter-widgets/base",
       "_model_module_version": "2.0.0",
       "_model_name": "LayoutModel",
       "_view_count": null,
       "_view_module": "@jupyter-widgets/base",
       "_view_module_version": "2.0.0",
       "_view_name": "LayoutView",
       "align_content": null,
       "align_items": null,
       "align_self": null,
       "border_bottom": null,
       "border_left": null,
       "border_right": null,
       "border_top": null,
       "bottom": null,
       "display": null,
       "flex": null,
       "flex_flow": null,
       "grid_area": null,
       "grid_auto_columns": null,
       "grid_auto_flow": null,
       "grid_auto_rows": null,
       "grid_column": null,
       "grid_gap": null,
       "grid_row": null,
       "grid_template_areas": null,
       "grid_template_columns": null,
       "grid_template_rows": null,
       "height": null,
       "justify_content": null,
       "justify_items": null,
       "left": null,
       "margin": null,
       "max_height": null,
       "max_width": null,
       "min_height": null,
       "min_width": null,
       "object_fit": null,
       "object_position": null,
       "order": null,
       "overflow": null,
       "padding": null,
       "right": null,
       "top": null,
       "visibility": null,
       "width": null
      }
     },
     "559c3fc2e38445bb8a3a0c46c5096720": {
      "model_module": "@jupyter-widgets/controls",
      "model_module_version": "2.0.0",
      "model_name": "HTMLModel",
      "state": {
       "_dom_classes": [],
       "_model_module": "@jupyter-widgets/controls",
       "_model_module_version": "2.0.0",
       "_model_name": "HTMLModel",
       "_view_count": null,
       "_view_module": "@jupyter-widgets/controls",
       "_view_module_version": "2.0.0",
       "_view_name": "HTMLView",
       "description": "",
       "description_allow_html": false,
       "layout": "IPY_MODEL_83c17391d5414e0696aa00a5a68c884f",
       "placeholder": "​",
       "style": "IPY_MODEL_586bc06824c54da28a7ca11c10113ab8",
       "tabbable": null,
       "tooltip": null,
       "value": " 4.89k/4.89k [00:00&lt;00:00, 516kB/s]"
      }
     },
     "56b456cb1b2b438abd6c5f85a659a3d8": {
      "model_module": "@jupyter-widgets/base",
      "model_module_version": "2.0.0",
      "model_name": "LayoutModel",
      "state": {
       "_model_module": "@jupyter-widgets/base",
       "_model_module_version": "2.0.0",
       "_model_name": "LayoutModel",
       "_view_count": null,
       "_view_module": "@jupyter-widgets/base",
       "_view_module_version": "2.0.0",
       "_view_name": "LayoutView",
       "align_content": null,
       "align_items": null,
       "align_self": null,
       "border_bottom": null,
       "border_left": null,
       "border_right": null,
       "border_top": null,
       "bottom": null,
       "display": null,
       "flex": null,
       "flex_flow": null,
       "grid_area": null,
       "grid_auto_columns": null,
       "grid_auto_flow": null,
       "grid_auto_rows": null,
       "grid_column": null,
       "grid_gap": null,
       "grid_row": null,
       "grid_template_areas": null,
       "grid_template_columns": null,
       "grid_template_rows": null,
       "height": null,
       "justify_content": null,
       "justify_items": null,
       "left": null,
       "margin": null,
       "max_height": null,
       "max_width": null,
       "min_height": null,
       "min_width": null,
       "object_fit": null,
       "object_position": null,
       "order": null,
       "overflow": null,
       "padding": null,
       "right": null,
       "top": null,
       "visibility": null,
       "width": null
      }
     },
     "586bc06824c54da28a7ca11c10113ab8": {
      "model_module": "@jupyter-widgets/controls",
      "model_module_version": "2.0.0",
      "model_name": "HTMLStyleModel",
      "state": {
       "_model_module": "@jupyter-widgets/controls",
       "_model_module_version": "2.0.0",
       "_model_name": "HTMLStyleModel",
       "_view_count": null,
       "_view_module": "@jupyter-widgets/base",
       "_view_module_version": "2.0.0",
       "_view_name": "StyleView",
       "background": null,
       "description_width": "",
       "font_size": null,
       "text_color": null
      }
     },
     "58a95addd49a43ce926ae665f51fe4c7": {
      "model_module": "@jupyter-widgets/controls",
      "model_module_version": "2.0.0",
      "model_name": "HTMLModel",
      "state": {
       "_dom_classes": [],
       "_model_module": "@jupyter-widgets/controls",
       "_model_module_version": "2.0.0",
       "_model_name": "HTMLModel",
       "_view_count": null,
       "_view_module": "@jupyter-widgets/controls",
       "_view_module_version": "2.0.0",
       "_view_name": "HTMLView",
       "description": "",
       "description_allow_html": false,
       "layout": "IPY_MODEL_90200dfa103b42799ef5ef5e35ad54b3",
       "placeholder": "​",
       "style": "IPY_MODEL_bbb122ea72b74c7a825c93e99ab985d3",
       "tabbable": null,
       "tooltip": null,
       "value": "special_tokens_map.json: 100%"
      }
     },
     "602f54448bf74b3d81b6da6ce51ee496": {
      "model_module": "@jupyter-widgets/controls",
      "model_module_version": "2.0.0",
      "model_name": "HTMLModel",
      "state": {
       "_dom_classes": [],
       "_model_module": "@jupyter-widgets/controls",
       "_model_module_version": "2.0.0",
       "_model_name": "HTMLModel",
       "_view_count": null,
       "_view_module": "@jupyter-widgets/controls",
       "_view_module_version": "2.0.0",
       "_view_name": "HTMLView",
       "description": "",
       "description_allow_html": false,
       "layout": "IPY_MODEL_c92364389d9241e19ca648f8d61a6642",
       "placeholder": "​",
       "style": "IPY_MODEL_4fa420bd83b54c558b18cfc1fe071136",
       "tabbable": null,
       "tooltip": null,
       "value": " 1.13G/1.13G [00:04&lt;00:00, 256MB/s]"
      }
     },
     "65a7d3fb3a7549aea503cecc9cbe7a83": {
      "model_module": "@jupyter-widgets/base",
      "model_module_version": "2.0.0",
      "model_name": "LayoutModel",
      "state": {
       "_model_module": "@jupyter-widgets/base",
       "_model_module_version": "2.0.0",
       "_model_name": "LayoutModel",
       "_view_count": null,
       "_view_module": "@jupyter-widgets/base",
       "_view_module_version": "2.0.0",
       "_view_name": "LayoutView",
       "align_content": null,
       "align_items": null,
       "align_self": null,
       "border_bottom": null,
       "border_left": null,
       "border_right": null,
       "border_top": null,
       "bottom": null,
       "display": null,
       "flex": null,
       "flex_flow": null,
       "grid_area": null,
       "grid_auto_columns": null,
       "grid_auto_flow": null,
       "grid_auto_rows": null,
       "grid_column": null,
       "grid_gap": null,
       "grid_row": null,
       "grid_template_areas": null,
       "grid_template_columns": null,
       "grid_template_rows": null,
       "height": null,
       "justify_content": null,
       "justify_items": null,
       "left": null,
       "margin": null,
       "max_height": null,
       "max_width": null,
       "min_height": null,
       "min_width": null,
       "object_fit": null,
       "object_position": null,
       "order": null,
       "overflow": null,
       "padding": null,
       "right": null,
       "top": null,
       "visibility": null,
       "width": null
      }
     },
     "663df11727584112b6621f4ae701e0fa": {
      "model_module": "@jupyter-widgets/base",
      "model_module_version": "2.0.0",
      "model_name": "LayoutModel",
      "state": {
       "_model_module": "@jupyter-widgets/base",
       "_model_module_version": "2.0.0",
       "_model_name": "LayoutModel",
       "_view_count": null,
       "_view_module": "@jupyter-widgets/base",
       "_view_module_version": "2.0.0",
       "_view_name": "LayoutView",
       "align_content": null,
       "align_items": null,
       "align_self": null,
       "border_bottom": null,
       "border_left": null,
       "border_right": null,
       "border_top": null,
       "bottom": null,
       "display": null,
       "flex": null,
       "flex_flow": null,
       "grid_area": null,
       "grid_auto_columns": null,
       "grid_auto_flow": null,
       "grid_auto_rows": null,
       "grid_column": null,
       "grid_gap": null,
       "grid_row": null,
       "grid_template_areas": null,
       "grid_template_columns": null,
       "grid_template_rows": null,
       "height": null,
       "justify_content": null,
       "justify_items": null,
       "left": null,
       "margin": null,
       "max_height": null,
       "max_width": null,
       "min_height": null,
       "min_width": null,
       "object_fit": null,
       "object_position": null,
       "order": null,
       "overflow": null,
       "padding": null,
       "right": null,
       "top": null,
       "visibility": null,
       "width": null
      }
     },
     "69b69f5842764b5a9c34a3986cf33319": {
      "model_module": "@jupyter-widgets/controls",
      "model_module_version": "2.0.0",
      "model_name": "HTMLModel",
      "state": {
       "_dom_classes": [],
       "_model_module": "@jupyter-widgets/controls",
       "_model_module_version": "2.0.0",
       "_model_name": "HTMLModel",
       "_view_count": null,
       "_view_module": "@jupyter-widgets/controls",
       "_view_module_version": "2.0.0",
       "_view_name": "HTMLView",
       "description": "",
       "description_allow_html": false,
       "layout": "IPY_MODEL_533e306bca504af685c9a9a04331538f",
       "placeholder": "​",
       "style": "IPY_MODEL_eab5f7b275f24cb794a907c58a7540c1",
       "tabbable": null,
       "tooltip": null,
       "value": "preprocessor_config.json: 100%"
      }
     },
     "7134d42c597b4a5b96fc15160a975770": {
      "model_module": "@jupyter-widgets/controls",
      "model_module_version": "2.0.0",
      "model_name": "HTMLStyleModel",
      "state": {
       "_model_module": "@jupyter-widgets/controls",
       "_model_module_version": "2.0.0",
       "_model_name": "HTMLStyleModel",
       "_view_count": null,
       "_view_module": "@jupyter-widgets/base",
       "_view_module_version": "2.0.0",
       "_view_name": "StyleView",
       "background": null,
       "description_width": "",
       "font_size": null,
       "text_color": null
      }
     },
     "72718cf3961c41cbaed9a7326d7a5ebf": {
      "model_module": "@jupyter-widgets/base",
      "model_module_version": "2.0.0",
      "model_name": "LayoutModel",
      "state": {
       "_model_module": "@jupyter-widgets/base",
       "_model_module_version": "2.0.0",
       "_model_name": "LayoutModel",
       "_view_count": null,
       "_view_module": "@jupyter-widgets/base",
       "_view_module_version": "2.0.0",
       "_view_name": "LayoutView",
       "align_content": null,
       "align_items": null,
       "align_self": null,
       "border_bottom": null,
       "border_left": null,
       "border_right": null,
       "border_top": null,
       "bottom": null,
       "display": null,
       "flex": null,
       "flex_flow": null,
       "grid_area": null,
       "grid_auto_columns": null,
       "grid_auto_flow": null,
       "grid_auto_rows": null,
       "grid_column": null,
       "grid_gap": null,
       "grid_row": null,
       "grid_template_areas": null,
       "grid_template_columns": null,
       "grid_template_rows": null,
       "height": null,
       "justify_content": null,
       "justify_items": null,
       "left": null,
       "margin": null,
       "max_height": null,
       "max_width": null,
       "min_height": null,
       "min_width": null,
       "object_fit": null,
       "object_position": null,
       "order": null,
       "overflow": null,
       "padding": null,
       "right": null,
       "top": null,
       "visibility": null,
       "width": null
      }
     },
     "74fe99f79ea949bca57a0e8c3a8c9227": {
      "model_module": "@jupyter-widgets/controls",
      "model_module_version": "2.0.0",
      "model_name": "HTMLModel",
      "state": {
       "_dom_classes": [],
       "_model_module": "@jupyter-widgets/controls",
       "_model_module_version": "2.0.0",
       "_model_name": "HTMLModel",
       "_view_count": null,
       "_view_module": "@jupyter-widgets/controls",
       "_view_module_version": "2.0.0",
       "_view_name": "HTMLView",
       "description": "",
       "description_allow_html": false,
       "layout": "IPY_MODEL_45225a7de3d44a2daba2c5296192b5e5",
       "placeholder": "​",
       "style": "IPY_MODEL_07d969e6c60d4744ac61d81ae08f16ac",
       "tabbable": null,
       "tooltip": null,
       "value": "tokenizer_config.json: 100%"
      }
     },
     "777cfe0ca3294e72bb3bd0381314695b": {
      "model_module": "@jupyter-widgets/controls",
      "model_module_version": "2.0.0",
      "model_name": "HTMLStyleModel",
      "state": {
       "_model_module": "@jupyter-widgets/controls",
       "_model_module_version": "2.0.0",
       "_model_name": "HTMLStyleModel",
       "_view_count": null,
       "_view_module": "@jupyter-widgets/base",
       "_view_module_version": "2.0.0",
       "_view_name": "StyleView",
       "background": null,
       "description_width": "",
       "font_size": null,
       "text_color": null
      }
     },
     "7c8079c74473431cbced4ce17b50626f": {
      "model_module": "@jupyter-widgets/controls",
      "model_module_version": "2.0.0",
      "model_name": "FloatProgressModel",
      "state": {
       "_dom_classes": [],
       "_model_module": "@jupyter-widgets/controls",
       "_model_module_version": "2.0.0",
       "_model_name": "FloatProgressModel",
       "_view_count": null,
       "_view_module": "@jupyter-widgets/controls",
       "_view_module_version": "2.0.0",
       "_view_name": "ProgressView",
       "bar_style": "success",
       "description": "",
       "description_allow_html": false,
       "layout": "IPY_MODEL_65a7d3fb3a7549aea503cecc9cbe7a83",
       "max": 2201.0,
       "min": 0.0,
       "orientation": "horizontal",
       "style": "IPY_MODEL_de9a17039d824dc4907c9e343f41d6cc",
       "tabbable": null,
       "tooltip": null,
       "value": 2201.0
      }
     },
     "7dee21a2b207403dad7b644fa1f9d8b4": {
      "model_module": "@jupyter-widgets/controls",
      "model_module_version": "2.0.0",
      "model_name": "HTMLModel",
      "state": {
       "_dom_classes": [],
       "_model_module": "@jupyter-widgets/controls",
       "_model_module_version": "2.0.0",
       "_model_name": "HTMLModel",
       "_view_count": null,
       "_view_module": "@jupyter-widgets/controls",
       "_view_module_version": "2.0.0",
       "_view_name": "HTMLView",
       "description": "",
       "description_allow_html": false,
       "layout": "IPY_MODEL_56b456cb1b2b438abd6c5f85a659a3d8",
       "placeholder": "​",
       "style": "IPY_MODEL_7134d42c597b4a5b96fc15160a975770",
       "tabbable": null,
       "tooltip": null,
       "value": " 851k/851k [00:00&lt;00:00, 3.73MB/s]"
      }
     },
     "8192f9d4f291466fa75398629addc578": {
      "model_module": "@jupyter-widgets/controls",
      "model_module_version": "2.0.0",
      "model_name": "HTMLStyleModel",
      "state": {
       "_model_module": "@jupyter-widgets/controls",
       "_model_module_version": "2.0.0",
       "_model_name": "HTMLStyleModel",
       "_view_count": null,
       "_view_module": "@jupyter-widgets/base",
       "_view_module_version": "2.0.0",
       "_view_name": "StyleView",
       "background": null,
       "description_width": "",
       "font_size": null,
       "text_color": null
      }
     },
     "81cb30c33ee64e60899f8c3b504755f8": {
      "model_module": "@jupyter-widgets/controls",
      "model_module_version": "2.0.0",
      "model_name": "HBoxModel",
      "state": {
       "_dom_classes": [],
       "_model_module": "@jupyter-widgets/controls",
       "_model_module_version": "2.0.0",
       "_model_name": "HBoxModel",
       "_view_count": null,
       "_view_module": "@jupyter-widgets/controls",
       "_view_module_version": "2.0.0",
       "_view_name": "HBoxView",
       "box_style": "",
       "children": [
        "IPY_MODEL_c5b734a5c5b449bb8764c51700702163",
        "IPY_MODEL_1c01b3a114dc4b9290bb48c311af7fe1",
        "IPY_MODEL_7dee21a2b207403dad7b644fa1f9d8b4"
       ],
       "layout": "IPY_MODEL_3bd9367d8b0047b6b4611e94419eae4c",
       "tabbable": null,
       "tooltip": null
      }
     },
     "81d631cefa704c6eb320d7a4a5a776e7": {
      "model_module": "@jupyter-widgets/controls",
      "model_module_version": "2.0.0",
      "model_name": "ProgressStyleModel",
      "state": {
       "_model_module": "@jupyter-widgets/controls",
       "_model_module_version": "2.0.0",
       "_model_name": "ProgressStyleModel",
       "_view_count": null,
       "_view_module": "@jupyter-widgets/base",
       "_view_module_version": "2.0.0",
       "_view_name": "StyleView",
       "bar_color": null,
       "description_width": ""
      }
     },
     "83c17391d5414e0696aa00a5a68c884f": {
      "model_module": "@jupyter-widgets/base",
      "model_module_version": "2.0.0",
      "model_name": "LayoutModel",
      "state": {
       "_model_module": "@jupyter-widgets/base",
       "_model_module_version": "2.0.0",
       "_model_name": "LayoutModel",
       "_view_count": null,
       "_view_module": "@jupyter-widgets/base",
       "_view_module_version": "2.0.0",
       "_view_name": "LayoutView",
       "align_content": null,
       "align_items": null,
       "align_self": null,
       "border_bottom": null,
       "border_left": null,
       "border_right": null,
       "border_top": null,
       "bottom": null,
       "display": null,
       "flex": null,
       "flex_flow": null,
       "grid_area": null,
       "grid_auto_columns": null,
       "grid_auto_flow": null,
       "grid_auto_rows": null,
       "grid_column": null,
       "grid_gap": null,
       "grid_row": null,
       "grid_template_areas": null,
       "grid_template_columns": null,
       "grid_template_rows": null,
       "height": null,
       "justify_content": null,
       "justify_items": null,
       "left": null,
       "margin": null,
       "max_height": null,
       "max_width": null,
       "min_height": null,
       "min_width": null,
       "object_fit": null,
       "object_position": null,
       "order": null,
       "overflow": null,
       "padding": null,
       "right": null,
       "top": null,
       "visibility": null,
       "width": null
      }
     },
     "86279407798b422d8ba31b24293d5ff9": {
      "model_module": "@jupyter-widgets/base",
      "model_module_version": "2.0.0",
      "model_name": "LayoutModel",
      "state": {
       "_model_module": "@jupyter-widgets/base",
       "_model_module_version": "2.0.0",
       "_model_name": "LayoutModel",
       "_view_count": null,
       "_view_module": "@jupyter-widgets/base",
       "_view_module_version": "2.0.0",
       "_view_name": "LayoutView",
       "align_content": null,
       "align_items": null,
       "align_self": null,
       "border_bottom": null,
       "border_left": null,
       "border_right": null,
       "border_top": null,
       "bottom": null,
       "display": null,
       "flex": null,
       "flex_flow": null,
       "grid_area": null,
       "grid_auto_columns": null,
       "grid_auto_flow": null,
       "grid_auto_rows": null,
       "grid_column": null,
       "grid_gap": null,
       "grid_row": null,
       "grid_template_areas": null,
       "grid_template_columns": null,
       "grid_template_rows": null,
       "height": null,
       "justify_content": null,
       "justify_items": null,
       "left": null,
       "margin": null,
       "max_height": null,
       "max_width": null,
       "min_height": null,
       "min_width": null,
       "object_fit": null,
       "object_position": null,
       "order": null,
       "overflow": null,
       "padding": null,
       "right": null,
       "top": null,
       "visibility": null,
       "width": null
      }
     },
     "868cfaa40368408bb8dfea876d5ce110": {
      "model_module": "@jupyter-widgets/base",
      "model_module_version": "2.0.0",
      "model_name": "LayoutModel",
      "state": {
       "_model_module": "@jupyter-widgets/base",
       "_model_module_version": "2.0.0",
       "_model_name": "LayoutModel",
       "_view_count": null,
       "_view_module": "@jupyter-widgets/base",
       "_view_module_version": "2.0.0",
       "_view_name": "LayoutView",
       "align_content": null,
       "align_items": null,
       "align_self": null,
       "border_bottom": null,
       "border_left": null,
       "border_right": null,
       "border_top": null,
       "bottom": null,
       "display": null,
       "flex": null,
       "flex_flow": null,
       "grid_area": null,
       "grid_auto_columns": null,
       "grid_auto_flow": null,
       "grid_auto_rows": null,
       "grid_column": null,
       "grid_gap": null,
       "grid_row": null,
       "grid_template_areas": null,
       "grid_template_columns": null,
       "grid_template_rows": null,
       "height": null,
       "justify_content": null,
       "justify_items": null,
       "left": null,
       "margin": null,
       "max_height": null,
       "max_width": null,
       "min_height": null,
       "min_width": null,
       "object_fit": null,
       "object_position": null,
       "order": null,
       "overflow": null,
       "padding": null,
       "right": null,
       "top": null,
       "visibility": null,
       "width": null
      }
     },
     "87b4fb01738f4ac0a38b47fc1b702013": {
      "model_module": "@jupyter-widgets/controls",
      "model_module_version": "2.0.0",
      "model_name": "ProgressStyleModel",
      "state": {
       "_model_module": "@jupyter-widgets/controls",
       "_model_module_version": "2.0.0",
       "_model_name": "ProgressStyleModel",
       "_view_count": null,
       "_view_module": "@jupyter-widgets/base",
       "_view_module_version": "2.0.0",
       "_view_name": "StyleView",
       "bar_color": null,
       "description_width": ""
      }
     },
     "8b64a6c4e93546fc8f121976ed971e32": {
      "model_module": "@jupyter-widgets/base",
      "model_module_version": "2.0.0",
      "model_name": "LayoutModel",
      "state": {
       "_model_module": "@jupyter-widgets/base",
       "_model_module_version": "2.0.0",
       "_model_name": "LayoutModel",
       "_view_count": null,
       "_view_module": "@jupyter-widgets/base",
       "_view_module_version": "2.0.0",
       "_view_name": "LayoutView",
       "align_content": null,
       "align_items": null,
       "align_self": null,
       "border_bottom": null,
       "border_left": null,
       "border_right": null,
       "border_top": null,
       "bottom": null,
       "display": null,
       "flex": null,
       "flex_flow": null,
       "grid_area": null,
       "grid_auto_columns": null,
       "grid_auto_flow": null,
       "grid_auto_rows": null,
       "grid_column": null,
       "grid_gap": null,
       "grid_row": null,
       "grid_template_areas": null,
       "grid_template_columns": null,
       "grid_template_rows": null,
       "height": null,
       "justify_content": null,
       "justify_items": null,
       "left": null,
       "margin": null,
       "max_height": null,
       "max_width": null,
       "min_height": null,
       "min_width": null,
       "object_fit": null,
       "object_position": null,
       "order": null,
       "overflow": null,
       "padding": null,
       "right": null,
       "top": null,
       "visibility": null,
       "width": null
      }
     },
     "90200dfa103b42799ef5ef5e35ad54b3": {
      "model_module": "@jupyter-widgets/base",
      "model_module_version": "2.0.0",
      "model_name": "LayoutModel",
      "state": {
       "_model_module": "@jupyter-widgets/base",
       "_model_module_version": "2.0.0",
       "_model_name": "LayoutModel",
       "_view_count": null,
       "_view_module": "@jupyter-widgets/base",
       "_view_module_version": "2.0.0",
       "_view_name": "LayoutView",
       "align_content": null,
       "align_items": null,
       "align_self": null,
       "border_bottom": null,
       "border_left": null,
       "border_right": null,
       "border_top": null,
       "bottom": null,
       "display": null,
       "flex": null,
       "flex_flow": null,
       "grid_area": null,
       "grid_auto_columns": null,
       "grid_auto_flow": null,
       "grid_auto_rows": null,
       "grid_column": null,
       "grid_gap": null,
       "grid_row": null,
       "grid_template_areas": null,
       "grid_template_columns": null,
       "grid_template_rows": null,
       "height": null,
       "justify_content": null,
       "justify_items": null,
       "left": null,
       "margin": null,
       "max_height": null,
       "max_width": null,
       "min_height": null,
       "min_width": null,
       "object_fit": null,
       "object_position": null,
       "order": null,
       "overflow": null,
       "padding": null,
       "right": null,
       "top": null,
       "visibility": null,
       "width": null
      }
     },
     "92931a9e97dc4bf8937d7c2ea62fa034": {
      "model_module": "@jupyter-widgets/controls",
      "model_module_version": "2.0.0",
      "model_name": "FloatProgressModel",
      "state": {
       "_dom_classes": [],
       "_model_module": "@jupyter-widgets/controls",
       "_model_module_version": "2.0.0",
       "_model_name": "FloatProgressModel",
       "_view_count": null,
       "_view_module": "@jupyter-widgets/controls",
       "_view_module_version": "2.0.0",
       "_view_name": "ProgressView",
       "bar_style": "success",
       "description": "",
       "description_allow_html": false,
       "layout": "IPY_MODEL_deffd3db2af847f19ce7c07da56bc3d2",
       "max": 4892.0,
       "min": 0.0,
       "orientation": "horizontal",
       "style": "IPY_MODEL_0043b389978445959722df1342176643",
       "tabbable": null,
       "tooltip": null,
       "value": 4892.0
      }
     },
     "92e31edea62b404d87adb4975190698b": {
      "model_module": "@jupyter-widgets/base",
      "model_module_version": "2.0.0",
      "model_name": "LayoutModel",
      "state": {
       "_model_module": "@jupyter-widgets/base",
       "_model_module_version": "2.0.0",
       "_model_name": "LayoutModel",
       "_view_count": null,
       "_view_module": "@jupyter-widgets/base",
       "_view_module_version": "2.0.0",
       "_view_name": "LayoutView",
       "align_content": null,
       "align_items": null,
       "align_self": null,
       "border_bottom": null,
       "border_left": null,
       "border_right": null,
       "border_top": null,
       "bottom": null,
       "display": null,
       "flex": null,
       "flex_flow": null,
       "grid_area": null,
       "grid_auto_columns": null,
       "grid_auto_flow": null,
       "grid_auto_rows": null,
       "grid_column": null,
       "grid_gap": null,
       "grid_row": null,
       "grid_template_areas": null,
       "grid_template_columns": null,
       "grid_template_rows": null,
       "height": null,
       "justify_content": null,
       "justify_items": null,
       "left": null,
       "margin": null,
       "max_height": null,
       "max_width": null,
       "min_height": null,
       "min_width": null,
       "object_fit": null,
       "object_position": null,
       "order": null,
       "overflow": null,
       "padding": null,
       "right": null,
       "top": null,
       "visibility": null,
       "width": null
      }
     },
     "949cfd57c0a14b4eb068dbc957dbba56": {
      "model_module": "@jupyter-widgets/controls",
      "model_module_version": "2.0.0",
      "model_name": "FloatProgressModel",
      "state": {
       "_dom_classes": [],
       "_model_module": "@jupyter-widgets/controls",
       "_model_module_version": "2.0.0",
       "_model_name": "FloatProgressModel",
       "_view_count": null,
       "_view_module": "@jupyter-widgets/controls",
       "_view_module_version": "2.0.0",
       "_view_name": "ProgressView",
       "bar_style": "success",
       "description": "",
       "description_allow_html": false,
       "layout": "IPY_MODEL_ff362c97ead143cab8295e5d5e5bb496",
       "max": 275572.0,
       "min": 0.0,
       "orientation": "horizontal",
       "style": "IPY_MODEL_87b4fb01738f4ac0a38b47fc1b702013",
       "tabbable": null,
       "tooltip": null,
       "value": 275572.0
      }
     },
     "95600cd9521d4f82b63adbfb5bd5c445": {
      "model_module": "@jupyter-widgets/controls",
      "model_module_version": "2.0.0",
      "model_name": "HTMLStyleModel",
      "state": {
       "_model_module": "@jupyter-widgets/controls",
       "_model_module_version": "2.0.0",
       "_model_name": "HTMLStyleModel",
       "_view_count": null,
       "_view_module": "@jupyter-widgets/base",
       "_view_module_version": "2.0.0",
       "_view_name": "StyleView",
       "background": null,
       "description_width": "",
       "font_size": null,
       "text_color": null
      }
     },
     "a094cc86f83c4d55816ec3f3e5736075": {
      "model_module": "@jupyter-widgets/base",
      "model_module_version": "2.0.0",
      "model_name": "LayoutModel",
      "state": {
       "_model_module": "@jupyter-widgets/base",
       "_model_module_version": "2.0.0",
       "_model_name": "LayoutModel",
       "_view_count": null,
       "_view_module": "@jupyter-widgets/base",
       "_view_module_version": "2.0.0",
       "_view_name": "LayoutView",
       "align_content": null,
       "align_items": null,
       "align_self": null,
       "border_bottom": null,
       "border_left": null,
       "border_right": null,
       "border_top": null,
       "bottom": null,
       "display": null,
       "flex": null,
       "flex_flow": null,
       "grid_area": null,
       "grid_auto_columns": null,
       "grid_auto_flow": null,
       "grid_auto_rows": null,
       "grid_column": null,
       "grid_gap": null,
       "grid_row": null,
       "grid_template_areas": null,
       "grid_template_columns": null,
       "grid_template_rows": null,
       "height": null,
       "justify_content": null,
       "justify_items": null,
       "left": null,
       "margin": null,
       "max_height": null,
       "max_width": null,
       "min_height": null,
       "min_width": null,
       "object_fit": null,
       "object_position": null,
       "order": null,
       "overflow": null,
       "padding": null,
       "right": null,
       "top": null,
       "visibility": null,
       "width": null
      }
     },
     "a8e11223df1e4a5e9d9680857f8ad9db": {
      "model_module": "@jupyter-widgets/base",
      "model_module_version": "2.0.0",
      "model_name": "LayoutModel",
      "state": {
       "_model_module": "@jupyter-widgets/base",
       "_model_module_version": "2.0.0",
       "_model_name": "LayoutModel",
       "_view_count": null,
       "_view_module": "@jupyter-widgets/base",
       "_view_module_version": "2.0.0",
       "_view_name": "LayoutView",
       "align_content": null,
       "align_items": null,
       "align_self": null,
       "border_bottom": null,
       "border_left": null,
       "border_right": null,
       "border_top": null,
       "bottom": null,
       "display": null,
       "flex": null,
       "flex_flow": null,
       "grid_area": null,
       "grid_auto_columns": null,
       "grid_auto_flow": null,
       "grid_auto_rows": null,
       "grid_column": null,
       "grid_gap": null,
       "grid_row": null,
       "grid_template_areas": null,
       "grid_template_columns": null,
       "grid_template_rows": null,
       "height": null,
       "justify_content": null,
       "justify_items": null,
       "left": null,
       "margin": null,
       "max_height": null,
       "max_width": null,
       "min_height": null,
       "min_width": null,
       "object_fit": null,
       "object_position": null,
       "order": null,
       "overflow": null,
       "padding": null,
       "right": null,
       "top": null,
       "visibility": null,
       "width": null
      }
     },
     "a8ee06258fbd40bd88fa17ade8c186b2": {
      "model_module": "@jupyter-widgets/base",
      "model_module_version": "2.0.0",
      "model_name": "LayoutModel",
      "state": {
       "_model_module": "@jupyter-widgets/base",
       "_model_module_version": "2.0.0",
       "_model_name": "LayoutModel",
       "_view_count": null,
       "_view_module": "@jupyter-widgets/base",
       "_view_module_version": "2.0.0",
       "_view_name": "LayoutView",
       "align_content": null,
       "align_items": null,
       "align_self": null,
       "border_bottom": null,
       "border_left": null,
       "border_right": null,
       "border_top": null,
       "bottom": null,
       "display": null,
       "flex": null,
       "flex_flow": null,
       "grid_area": null,
       "grid_auto_columns": null,
       "grid_auto_flow": null,
       "grid_auto_rows": null,
       "grid_column": null,
       "grid_gap": null,
       "grid_row": null,
       "grid_template_areas": null,
       "grid_template_columns": null,
       "grid_template_rows": null,
       "height": null,
       "justify_content": null,
       "justify_items": null,
       "left": null,
       "margin": null,
       "max_height": null,
       "max_width": null,
       "min_height": null,
       "min_width": null,
       "object_fit": null,
       "object_position": null,
       "order": null,
       "overflow": null,
       "padding": null,
       "right": null,
       "top": null,
       "visibility": null,
       "width": null
      }
     },
     "af7a83eb5afa40d08bdb4901516fe553": {
      "model_module": "@jupyter-widgets/base",
      "model_module_version": "2.0.0",
      "model_name": "LayoutModel",
      "state": {
       "_model_module": "@jupyter-widgets/base",
       "_model_module_version": "2.0.0",
       "_model_name": "LayoutModel",
       "_view_count": null,
       "_view_module": "@jupyter-widgets/base",
       "_view_module_version": "2.0.0",
       "_view_name": "LayoutView",
       "align_content": null,
       "align_items": null,
       "align_self": null,
       "border_bottom": null,
       "border_left": null,
       "border_right": null,
       "border_top": null,
       "bottom": null,
       "display": null,
       "flex": null,
       "flex_flow": null,
       "grid_area": null,
       "grid_auto_columns": null,
       "grid_auto_flow": null,
       "grid_auto_rows": null,
       "grid_column": null,
       "grid_gap": null,
       "grid_row": null,
       "grid_template_areas": null,
       "grid_template_columns": null,
       "grid_template_rows": null,
       "height": null,
       "justify_content": null,
       "justify_items": null,
       "left": null,
       "margin": null,
       "max_height": null,
       "max_width": null,
       "min_height": null,
       "min_width": null,
       "object_fit": null,
       "object_position": null,
       "order": null,
       "overflow": null,
       "padding": null,
       "right": null,
       "top": null,
       "visibility": null,
       "width": null
      }
     },
     "b8cb7657db3b4409ac995afe37928cc0": {
      "model_module": "@jupyter-widgets/controls",
      "model_module_version": "2.0.0",
      "model_name": "FloatProgressModel",
      "state": {
       "_dom_classes": [],
       "_model_module": "@jupyter-widgets/controls",
       "_model_module_version": "2.0.0",
       "_model_name": "FloatProgressModel",
       "_view_count": null,
       "_view_module": "@jupyter-widgets/controls",
       "_view_module_version": "2.0.0",
       "_view_name": "ProgressView",
       "bar_style": "success",
       "description": "",
       "description_allow_html": false,
       "layout": "IPY_MODEL_a094cc86f83c4d55816ec3f3e5736075",
       "max": 3265159.0,
       "min": 0.0,
       "orientation": "horizontal",
       "style": "IPY_MODEL_11dbaa578c384cefaf39f493ae2e14f0",
       "tabbable": null,
       "tooltip": null,
       "value": 3265159.0
      }
     },
     "bbb122ea72b74c7a825c93e99ab985d3": {
      "model_module": "@jupyter-widgets/controls",
      "model_module_version": "2.0.0",
      "model_name": "HTMLStyleModel",
      "state": {
       "_model_module": "@jupyter-widgets/controls",
       "_model_module_version": "2.0.0",
       "_model_name": "HTMLStyleModel",
       "_view_count": null,
       "_view_module": "@jupyter-widgets/base",
       "_view_module_version": "2.0.0",
       "_view_name": "StyleView",
       "background": null,
       "description_width": "",
       "font_size": null,
       "text_color": null
      }
     },
     "bf48bd62946f44ee8f7bea69ebe6debc": {
      "model_module": "@jupyter-widgets/base",
      "model_module_version": "2.0.0",
      "model_name": "LayoutModel",
      "state": {
       "_model_module": "@jupyter-widgets/base",
       "_model_module_version": "2.0.0",
       "_model_name": "LayoutModel",
       "_view_count": null,
       "_view_module": "@jupyter-widgets/base",
       "_view_module_version": "2.0.0",
       "_view_name": "LayoutView",
       "align_content": null,
       "align_items": null,
       "align_self": null,
       "border_bottom": null,
       "border_left": null,
       "border_right": null,
       "border_top": null,
       "bottom": null,
       "display": null,
       "flex": null,
       "flex_flow": null,
       "grid_area": null,
       "grid_auto_columns": null,
       "grid_auto_flow": null,
       "grid_auto_rows": null,
       "grid_column": null,
       "grid_gap": null,
       "grid_row": null,
       "grid_template_areas": null,
       "grid_template_columns": null,
       "grid_template_rows": null,
       "height": null,
       "justify_content": null,
       "justify_items": null,
       "left": null,
       "margin": null,
       "max_height": null,
       "max_width": null,
       "min_height": null,
       "min_width": null,
       "object_fit": null,
       "object_position": null,
       "order": null,
       "overflow": null,
       "padding": null,
       "right": null,
       "top": null,
       "visibility": null,
       "width": null
      }
     },
     "c0307dbb826d4104a5ca84448b21fdda": {
      "model_module": "@jupyter-widgets/controls",
      "model_module_version": "2.0.0",
      "model_name": "HTMLModel",
      "state": {
       "_dom_classes": [],
       "_model_module": "@jupyter-widgets/controls",
       "_model_module_version": "2.0.0",
       "_model_name": "HTMLModel",
       "_view_count": null,
       "_view_module": "@jupyter-widgets/controls",
       "_view_module_version": "2.0.0",
       "_view_name": "HTMLView",
       "description": "",
       "description_allow_html": false,
       "layout": "IPY_MODEL_a8e11223df1e4a5e9d9680857f8ad9db",
       "placeholder": "​",
       "style": "IPY_MODEL_8192f9d4f291466fa75398629addc578",
       "tabbable": null,
       "tooltip": null,
       "value": "model.safetensors: 100%"
      }
     },
     "c5b734a5c5b449bb8764c51700702163": {
      "model_module": "@jupyter-widgets/controls",
      "model_module_version": "2.0.0",
      "model_name": "HTMLModel",
      "state": {
       "_dom_classes": [],
       "_model_module": "@jupyter-widgets/controls",
       "_model_module_version": "2.0.0",
       "_model_name": "HTMLModel",
       "_view_count": null,
       "_view_module": "@jupyter-widgets/controls",
       "_view_module_version": "2.0.0",
       "_view_name": "HTMLView",
       "description": "",
       "description_allow_html": false,
       "layout": "IPY_MODEL_0ef4c814c0dd4c409034a68fc1e6faa1",
       "placeholder": "​",
       "style": "IPY_MODEL_d6ee866e763b4453b2eb3834508dfe93",
       "tabbable": null,
       "tooltip": null,
       "value": "spiece.model: 100%"
      }
     },
     "c92364389d9241e19ca648f8d61a6642": {
      "model_module": "@jupyter-widgets/base",
      "model_module_version": "2.0.0",
      "model_name": "LayoutModel",
      "state": {
       "_model_module": "@jupyter-widgets/base",
       "_model_module_version": "2.0.0",
       "_model_name": "LayoutModel",
       "_view_count": null,
       "_view_module": "@jupyter-widgets/base",
       "_view_module_version": "2.0.0",
       "_view_name": "LayoutView",
       "align_content": null,
       "align_items": null,
       "align_self": null,
       "border_bottom": null,
       "border_left": null,
       "border_right": null,
       "border_top": null,
       "bottom": null,
       "display": null,
       "flex": null,
       "flex_flow": null,
       "grid_area": null,
       "grid_auto_columns": null,
       "grid_auto_flow": null,
       "grid_auto_rows": null,
       "grid_column": null,
       "grid_gap": null,
       "grid_row": null,
       "grid_template_areas": null,
       "grid_template_columns": null,
       "grid_template_rows": null,
       "height": null,
       "justify_content": null,
       "justify_items": null,
       "left": null,
       "margin": null,
       "max_height": null,
       "max_width": null,
       "min_height": null,
       "min_width": null,
       "object_fit": null,
       "object_position": null,
       "order": null,
       "overflow": null,
       "padding": null,
       "right": null,
       "top": null,
       "visibility": null,
       "width": null
      }
     },
     "d557f968b82b442bb9a944cff3d6386e": {
      "model_module": "@jupyter-widgets/controls",
      "model_module_version": "2.0.0",
      "model_name": "HTMLModel",
      "state": {
       "_dom_classes": [],
       "_model_module": "@jupyter-widgets/controls",
       "_model_module_version": "2.0.0",
       "_model_name": "HTMLModel",
       "_view_count": null,
       "_view_module": "@jupyter-widgets/controls",
       "_view_module_version": "2.0.0",
       "_view_name": "HTMLView",
       "description": "",
       "description_allow_html": false,
       "layout": "IPY_MODEL_92e31edea62b404d87adb4975190698b",
       "placeholder": "​",
       "style": "IPY_MODEL_1105b5673b744d849979d3c723dab1a5",
       "tabbable": null,
       "tooltip": null,
       "value": "config.json: 100%"
      }
     },
     "d6ee866e763b4453b2eb3834508dfe93": {
      "model_module": "@jupyter-widgets/controls",
      "model_module_version": "2.0.0",
      "model_name": "HTMLStyleModel",
      "state": {
       "_model_module": "@jupyter-widgets/controls",
       "_model_module_version": "2.0.0",
       "_model_name": "HTMLStyleModel",
       "_view_count": null,
       "_view_module": "@jupyter-widgets/base",
       "_view_module_version": "2.0.0",
       "_view_name": "StyleView",
       "background": null,
       "description_width": "",
       "font_size": null,
       "text_color": null
      }
     },
     "d6f51aaefb544aa18c669d78b4325a1c": {
      "model_module": "@jupyter-widgets/controls",
      "model_module_version": "2.0.0",
      "model_name": "HTMLModel",
      "state": {
       "_dom_classes": [],
       "_model_module": "@jupyter-widgets/controls",
       "_model_module_version": "2.0.0",
       "_model_name": "HTMLModel",
       "_view_count": null,
       "_view_module": "@jupyter-widgets/controls",
       "_view_module_version": "2.0.0",
       "_view_name": "HTMLView",
       "description": "",
       "description_allow_html": false,
       "layout": "IPY_MODEL_333c411eeb654af9ae1c923b66430dcb",
       "placeholder": "​",
       "style": "IPY_MODEL_777cfe0ca3294e72bb3bd0381314695b",
       "tabbable": null,
       "tooltip": null,
       "value": " 3.27M/3.27M [00:00&lt;00:00, 22.7MB/s]"
      }
     },
     "d7ace269b5e1496b9d1dd142d69614c8": {
      "model_module": "@jupyter-widgets/base",
      "model_module_version": "2.0.0",
      "model_name": "LayoutModel",
      "state": {
       "_model_module": "@jupyter-widgets/base",
       "_model_module_version": "2.0.0",
       "_model_name": "LayoutModel",
       "_view_count": null,
       "_view_module": "@jupyter-widgets/base",
       "_view_module_version": "2.0.0",
       "_view_name": "LayoutView",
       "align_content": null,
       "align_items": null,
       "align_self": null,
       "border_bottom": null,
       "border_left": null,
       "border_right": null,
       "border_top": null,
       "bottom": null,
       "display": null,
       "flex": null,
       "flex_flow": null,
       "grid_area": null,
       "grid_auto_columns": null,
       "grid_auto_flow": null,
       "grid_auto_rows": null,
       "grid_column": null,
       "grid_gap": null,
       "grid_row": null,
       "grid_template_areas": null,
       "grid_template_columns": null,
       "grid_template_rows": null,
       "height": null,
       "justify_content": null,
       "justify_items": null,
       "left": null,
       "margin": null,
       "max_height": null,
       "max_width": null,
       "min_height": null,
       "min_width": null,
       "object_fit": null,
       "object_position": null,
       "order": null,
       "overflow": null,
       "padding": null,
       "right": null,
       "top": null,
       "visibility": null,
       "width": null
      }
     },
     "de9a17039d824dc4907c9e343f41d6cc": {
      "model_module": "@jupyter-widgets/controls",
      "model_module_version": "2.0.0",
      "model_name": "ProgressStyleModel",
      "state": {
       "_model_module": "@jupyter-widgets/controls",
       "_model_module_version": "2.0.0",
       "_model_name": "ProgressStyleModel",
       "_view_count": null,
       "_view_module": "@jupyter-widgets/base",
       "_view_module_version": "2.0.0",
       "_view_name": "StyleView",
       "bar_color": null,
       "description_width": ""
      }
     },
     "deffd3db2af847f19ce7c07da56bc3d2": {
      "model_module": "@jupyter-widgets/base",
      "model_module_version": "2.0.0",
      "model_name": "LayoutModel",
      "state": {
       "_model_module": "@jupyter-widgets/base",
       "_model_module_version": "2.0.0",
       "_model_name": "LayoutModel",
       "_view_count": null,
       "_view_module": "@jupyter-widgets/base",
       "_view_module_version": "2.0.0",
       "_view_name": "LayoutView",
       "align_content": null,
       "align_items": null,
       "align_self": null,
       "border_bottom": null,
       "border_left": null,
       "border_right": null,
       "border_top": null,
       "bottom": null,
       "display": null,
       "flex": null,
       "flex_flow": null,
       "grid_area": null,
       "grid_auto_columns": null,
       "grid_auto_flow": null,
       "grid_auto_rows": null,
       "grid_column": null,
       "grid_gap": null,
       "grid_row": null,
       "grid_template_areas": null,
       "grid_template_columns": null,
       "grid_template_rows": null,
       "height": null,
       "justify_content": null,
       "justify_items": null,
       "left": null,
       "margin": null,
       "max_height": null,
       "max_width": null,
       "min_height": null,
       "min_width": null,
       "object_fit": null,
       "object_position": null,
       "order": null,
       "overflow": null,
       "padding": null,
       "right": null,
       "top": null,
       "visibility": null,
       "width": null
      }
     },
     "e0318cba00f1488d8566028d6f7a2160": {
      "model_module": "@jupyter-widgets/controls",
      "model_module_version": "2.0.0",
      "model_name": "FloatProgressModel",
      "state": {
       "_dom_classes": [],
       "_model_module": "@jupyter-widgets/controls",
       "_model_module_version": "2.0.0",
       "_model_name": "FloatProgressModel",
       "_view_count": null,
       "_view_module": "@jupyter-widgets/controls",
       "_view_module_version": "2.0.0",
       "_view_name": "ProgressView",
       "bar_style": "success",
       "description": "",
       "description_allow_html": false,
       "layout": "IPY_MODEL_e1966d578d944e449534d5f61777fe0c",
       "max": 1129177976.0,
       "min": 0.0,
       "orientation": "horizontal",
       "style": "IPY_MODEL_81d631cefa704c6eb320d7a4a5a776e7",
       "tabbable": null,
       "tooltip": null,
       "value": 1129177976.0
      }
     },
     "e1966d578d944e449534d5f61777fe0c": {
      "model_module": "@jupyter-widgets/base",
      "model_module_version": "2.0.0",
      "model_name": "LayoutModel",
      "state": {
       "_model_module": "@jupyter-widgets/base",
       "_model_module_version": "2.0.0",
       "_model_name": "LayoutModel",
       "_view_count": null,
       "_view_module": "@jupyter-widgets/base",
       "_view_module_version": "2.0.0",
       "_view_name": "LayoutView",
       "align_content": null,
       "align_items": null,
       "align_self": null,
       "border_bottom": null,
       "border_left": null,
       "border_right": null,
       "border_top": null,
       "bottom": null,
       "display": null,
       "flex": null,
       "flex_flow": null,
       "grid_area": null,
       "grid_auto_columns": null,
       "grid_auto_flow": null,
       "grid_auto_rows": null,
       "grid_column": null,
       "grid_gap": null,
       "grid_row": null,
       "grid_template_areas": null,
       "grid_template_columns": null,
       "grid_template_rows": null,
       "height": null,
       "justify_content": null,
       "justify_items": null,
       "left": null,
       "margin": null,
       "max_height": null,
       "max_width": null,
       "min_height": null,
       "min_width": null,
       "object_fit": null,
       "object_position": null,
       "order": null,
       "overflow": null,
       "padding": null,
       "right": null,
       "top": null,
       "visibility": null,
       "width": null
      }
     },
     "e1c4d493b90f45fdb0af31b7602f9f11": {
      "model_module": "@jupyter-widgets/controls",
      "model_module_version": "2.0.0",
      "model_name": "HBoxModel",
      "state": {
       "_dom_classes": [],
       "_model_module": "@jupyter-widgets/controls",
       "_model_module_version": "2.0.0",
       "_model_name": "HBoxModel",
       "_view_count": null,
       "_view_module": "@jupyter-widgets/controls",
       "_view_module_version": "2.0.0",
       "_view_name": "HBoxView",
       "box_style": "",
       "children": [
        "IPY_MODEL_2e092a635e3944d3880b700a8b565197",
        "IPY_MODEL_949cfd57c0a14b4eb068dbc957dbba56",
        "IPY_MODEL_4416c3b8238d493dbc1321e751f1d8a8"
       ],
       "layout": "IPY_MODEL_bf48bd62946f44ee8f7bea69ebe6debc",
       "tabbable": null,
       "tooltip": null
      }
     },
     "e2acd8ed575c4827ae2442c6c8ab9955": {
      "model_module": "@jupyter-widgets/controls",
      "model_module_version": "2.0.0",
      "model_name": "HTMLModel",
      "state": {
       "_dom_classes": [],
       "_model_module": "@jupyter-widgets/controls",
       "_model_module_version": "2.0.0",
       "_model_name": "HTMLModel",
       "_view_count": null,
       "_view_module": "@jupyter-widgets/controls",
       "_view_module_version": "2.0.0",
       "_view_name": "HTMLView",
       "description": "",
       "description_allow_html": false,
       "layout": "IPY_MODEL_2ef7e7018ae742a8b75f9b095ee6ff43",
       "placeholder": "​",
       "style": "IPY_MODEL_06152e7adee246b7843b2d5cc4b907d1",
       "tabbable": null,
       "tooltip": null,
       "value": "tokenizer.json: 100%"
      }
     },
     "eab5f7b275f24cb794a907c58a7540c1": {
      "model_module": "@jupyter-widgets/controls",
      "model_module_version": "2.0.0",
      "model_name": "HTMLStyleModel",
      "state": {
       "_model_module": "@jupyter-widgets/controls",
       "_model_module_version": "2.0.0",
       "_model_name": "HTMLStyleModel",
       "_view_count": null,
       "_view_module": "@jupyter-widgets/base",
       "_view_module_version": "2.0.0",
       "_view_name": "StyleView",
       "background": null,
       "description_width": "",
       "font_size": null,
       "text_color": null
      }
     },
     "f5bc559d8e274c13a07c4a14646b09ab": {
      "model_module": "@jupyter-widgets/base",
      "model_module_version": "2.0.0",
      "model_name": "LayoutModel",
      "state": {
       "_model_module": "@jupyter-widgets/base",
       "_model_module_version": "2.0.0",
       "_model_name": "LayoutModel",
       "_view_count": null,
       "_view_module": "@jupyter-widgets/base",
       "_view_module_version": "2.0.0",
       "_view_name": "LayoutView",
       "align_content": null,
       "align_items": null,
       "align_self": null,
       "border_bottom": null,
       "border_left": null,
       "border_right": null,
       "border_top": null,
       "bottom": null,
       "display": null,
       "flex": null,
       "flex_flow": null,
       "grid_area": null,
       "grid_auto_columns": null,
       "grid_auto_flow": null,
       "grid_auto_rows": null,
       "grid_column": null,
       "grid_gap": null,
       "grid_row": null,
       "grid_template_areas": null,
       "grid_template_columns": null,
       "grid_template_rows": null,
       "height": null,
       "justify_content": null,
       "justify_items": null,
       "left": null,
       "margin": null,
       "max_height": null,
       "max_width": null,
       "min_height": null,
       "min_width": null,
       "object_fit": null,
       "object_position": null,
       "order": null,
       "overflow": null,
       "padding": null,
       "right": null,
       "top": null,
       "visibility": null,
       "width": null
      }
     },
     "f5f1446824e1478db1cbb8d7821ae8a8": {
      "model_module": "@jupyter-widgets/controls",
      "model_module_version": "2.0.0",
      "model_name": "HTMLStyleModel",
      "state": {
       "_model_module": "@jupyter-widgets/controls",
       "_model_module_version": "2.0.0",
       "_model_name": "HTMLStyleModel",
       "_view_count": null,
       "_view_module": "@jupyter-widgets/base",
       "_view_module_version": "2.0.0",
       "_view_name": "StyleView",
       "background": null,
       "description_width": "",
       "font_size": null,
       "text_color": null
      }
     },
     "f699d42a8e4f4b81853ba040312fbf6c": {
      "model_module": "@jupyter-widgets/base",
      "model_module_version": "2.0.0",
      "model_name": "LayoutModel",
      "state": {
       "_model_module": "@jupyter-widgets/base",
       "_model_module_version": "2.0.0",
       "_model_name": "LayoutModel",
       "_view_count": null,
       "_view_module": "@jupyter-widgets/base",
       "_view_module_version": "2.0.0",
       "_view_name": "LayoutView",
       "align_content": null,
       "align_items": null,
       "align_self": null,
       "border_bottom": null,
       "border_left": null,
       "border_right": null,
       "border_top": null,
       "bottom": null,
       "display": null,
       "flex": null,
       "flex_flow": null,
       "grid_area": null,
       "grid_auto_columns": null,
       "grid_auto_flow": null,
       "grid_auto_rows": null,
       "grid_column": null,
       "grid_gap": null,
       "grid_row": null,
       "grid_template_areas": null,
       "grid_template_columns": null,
       "grid_template_rows": null,
       "height": null,
       "justify_content": null,
       "justify_items": null,
       "left": null,
       "margin": null,
       "max_height": null,
       "max_width": null,
       "min_height": null,
       "min_width": null,
       "object_fit": null,
       "object_position": null,
       "order": null,
       "overflow": null,
       "padding": null,
       "right": null,
       "top": null,
       "visibility": null,
       "width": null
      }
     },
     "f7121c89f3fb4ec4a2d6d7abe0d90e0d": {
      "model_module": "@jupyter-widgets/controls",
      "model_module_version": "2.0.0",
      "model_name": "HTMLStyleModel",
      "state": {
       "_model_module": "@jupyter-widgets/controls",
       "_model_module_version": "2.0.0",
       "_model_name": "HTMLStyleModel",
       "_view_count": null,
       "_view_module": "@jupyter-widgets/base",
       "_view_module_version": "2.0.0",
       "_view_name": "StyleView",
       "background": null,
       "description_width": "",
       "font_size": null,
       "text_color": null
      }
     },
     "f7fba7b664344a11ac1b16b6af8ae475": {
      "model_module": "@jupyter-widgets/controls",
      "model_module_version": "2.0.0",
      "model_name": "ProgressStyleModel",
      "state": {
       "_model_module": "@jupyter-widgets/controls",
       "_model_module_version": "2.0.0",
       "_model_name": "ProgressStyleModel",
       "_view_count": null,
       "_view_module": "@jupyter-widgets/base",
       "_view_module_version": "2.0.0",
       "_view_name": "StyleView",
       "bar_color": null,
       "description_width": ""
      }
     },
     "faeaabe2217e4471b7a0a6832ec51f20": {
      "model_module": "@jupyter-widgets/controls",
      "model_module_version": "2.0.0",
      "model_name": "HBoxModel",
      "state": {
       "_dom_classes": [],
       "_model_module": "@jupyter-widgets/controls",
       "_model_module_version": "2.0.0",
       "_model_name": "HBoxModel",
       "_view_count": null,
       "_view_module": "@jupyter-widgets/controls",
       "_view_module_version": "2.0.0",
       "_view_name": "HBoxView",
       "box_style": "",
       "children": [
        "IPY_MODEL_69b69f5842764b5a9c34a3986cf33319",
        "IPY_MODEL_4faa4c75458e41b0a6c290e2ac0a25a9",
        "IPY_MODEL_462f9b3c0891403ea7776ce14e0e09ce"
       ],
       "layout": "IPY_MODEL_a8ee06258fbd40bd88fa17ade8c186b2",
       "tabbable": null,
       "tooltip": null
      }
     },
     "fcc84c9131af42f197df2a71eb4f2887": {
      "model_module": "@jupyter-widgets/controls",
      "model_module_version": "2.0.0",
      "model_name": "HTMLModel",
      "state": {
       "_dom_classes": [],
       "_model_module": "@jupyter-widgets/controls",
       "_model_module_version": "2.0.0",
       "_model_name": "HTMLModel",
       "_view_count": null,
       "_view_module": "@jupyter-widgets/controls",
       "_view_module_version": "2.0.0",
       "_view_name": "HTMLView",
       "description": "",
       "description_allow_html": false,
       "layout": "IPY_MODEL_663df11727584112b6621f4ae701e0fa",
       "placeholder": "​",
       "style": "IPY_MODEL_41c2772975fb4c8e9966673c3629a41f",
       "tabbable": null,
       "tooltip": null,
       "value": " 2.20k/2.20k [00:00&lt;00:00, 249kB/s]"
      }
     },
     "ff362c97ead143cab8295e5d5e5bb496": {
      "model_module": "@jupyter-widgets/base",
      "model_module_version": "2.0.0",
      "model_name": "LayoutModel",
      "state": {
       "_model_module": "@jupyter-widgets/base",
       "_model_module_version": "2.0.0",
       "_model_name": "LayoutModel",
       "_view_count": null,
       "_view_module": "@jupyter-widgets/base",
       "_view_module_version": "2.0.0",
       "_view_name": "LayoutView",
       "align_content": null,
       "align_items": null,
       "align_self": null,
       "border_bottom": null,
       "border_left": null,
       "border_right": null,
       "border_top": null,
       "bottom": null,
       "display": null,
       "flex": null,
       "flex_flow": null,
       "grid_area": null,
       "grid_auto_columns": null,
       "grid_auto_flow": null,
       "grid_auto_rows": null,
       "grid_column": null,
       "grid_gap": null,
       "grid_row": null,
       "grid_template_areas": null,
       "grid_template_columns": null,
       "grid_template_rows": null,
       "height": null,
       "justify_content": null,
       "justify_items": null,
       "left": null,
       "margin": null,
       "max_height": null,
       "max_width": null,
       "min_height": null,
       "min_width": null,
       "object_fit": null,
       "object_position": null,
       "order": null,
       "overflow": null,
       "padding": null,
       "right": null,
       "top": null,
       "visibility": null,
       "width": null
      }
     }
    },
    "version_major": 2,
    "version_minor": 0
   }
  }
 },
 "nbformat": 4,
 "nbformat_minor": 5
}
