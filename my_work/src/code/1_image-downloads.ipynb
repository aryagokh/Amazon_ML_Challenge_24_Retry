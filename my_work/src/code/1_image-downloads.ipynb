{
 "cells": [
  {
   "cell_type": "code",
   "execution_count": 1,
   "id": "78c18090",
   "metadata": {
    "_cell_guid": "b1076dfc-b9ad-4769-8c92-a6c4dae69d19",
    "_uuid": "8f2839f25d086af736a60e9eeb907d3b93b6e0e5",
    "execution": {
     "iopub.execute_input": "2025-01-10T10:57:42.063375Z",
     "iopub.status.busy": "2025-01-10T10:57:42.062995Z",
     "iopub.status.idle": "2025-01-10T10:57:43.976303Z",
     "shell.execute_reply": "2025-01-10T10:57:43.975176Z"
    },
    "papermill": {
     "duration": 1.920265,
     "end_time": "2025-01-10T10:57:43.978322",
     "exception": false,
     "start_time": "2025-01-10T10:57:42.058057",
     "status": "completed"
    },
    "tags": []
   },
   "outputs": [],
   "source": [
    "import pandas as pd\n",
    "import numpy as np\n",
    "import matplotlib.pyplot as plt\n",
    "import seaborn as sns\n",
    "\n",
    "import os\n",
    "import shutil\n",
    "from pathlib import Path"
   ]
  },
  {
   "cell_type": "code",
   "execution_count": 2,
   "id": "87db7ff2",
   "metadata": {
    "execution": {
     "iopub.execute_input": "2025-01-10T10:57:43.986621Z",
     "iopub.status.busy": "2025-01-10T10:57:43.986035Z",
     "iopub.status.idle": "2025-01-10T10:57:43.993643Z",
     "shell.execute_reply": "2025-01-10T10:57:43.992488Z"
    },
    "papermill": {
     "duration": 0.013707,
     "end_time": "2025-01-10T10:57:43.995597",
     "exception": false,
     "start_time": "2025-01-10T10:57:43.981890",
     "status": "completed"
    },
    "tags": []
   },
   "outputs": [
    {
     "data": {
      "text/plain": [
       "'/kaggle/working'"
      ]
     },
     "execution_count": 2,
     "metadata": {},
     "output_type": "execute_result"
    }
   ],
   "source": [
    "os.getcwd()"
   ]
  },
  {
   "cell_type": "code",
   "execution_count": 3,
   "id": "bfc9584b",
   "metadata": {
    "execution": {
     "iopub.execute_input": "2025-01-10T10:57:44.003952Z",
     "iopub.status.busy": "2025-01-10T10:57:44.003541Z",
     "iopub.status.idle": "2025-01-10T10:57:44.845114Z",
     "shell.execute_reply": "2025-01-10T10:57:44.844196Z"
    },
    "papermill": {
     "duration": 0.847454,
     "end_time": "2025-01-10T10:57:44.846599",
     "exception": false,
     "start_time": "2025-01-10T10:57:43.999145",
     "status": "completed"
    },
    "tags": []
   },
   "outputs": [
    {
     "data": {
      "text/plain": [
       "'/kaggle/working/Amazon_ML_Challenge_2024'"
      ]
     },
     "execution_count": 3,
     "metadata": {},
     "output_type": "execute_result"
    }
   ],
   "source": [
    "import shutil\n",
    "shutil.copytree(src=\"/kaggle/input/amazon-ml-challenge-2024\", dst=\"/kaggle/working/Amazon_ML_Challenge_2024\")"
   ]
  },
  {
   "cell_type": "code",
   "execution_count": 4,
   "id": "b4ecb5f0",
   "metadata": {
    "execution": {
     "iopub.execute_input": "2025-01-10T10:57:44.854076Z",
     "iopub.status.busy": "2025-01-10T10:57:44.853728Z",
     "iopub.status.idle": "2025-01-10T10:57:44.859194Z",
     "shell.execute_reply": "2025-01-10T10:57:44.858305Z"
    },
    "papermill": {
     "duration": 0.010695,
     "end_time": "2025-01-10T10:57:44.860580",
     "exception": false,
     "start_time": "2025-01-10T10:57:44.849885",
     "status": "completed"
    },
    "tags": []
   },
   "outputs": [
    {
     "data": {
      "text/plain": [
       "'/kaggle/working/Amazon_ML_Challenge_2024/student_resource/src'"
      ]
     },
     "execution_count": 4,
     "metadata": {},
     "output_type": "execute_result"
    }
   ],
   "source": [
    "os.chdir('/kaggle/working/Amazon_ML_Challenge_2024/student_resource/src')\n",
    "os.getcwd() "
   ]
  },
  {
   "cell_type": "code",
   "execution_count": 5,
   "id": "7785d772",
   "metadata": {
    "execution": {
     "iopub.execute_input": "2025-01-10T10:57:44.868055Z",
     "iopub.status.busy": "2025-01-10T10:57:44.867729Z",
     "iopub.status.idle": "2025-01-10T10:57:45.369045Z",
     "shell.execute_reply": "2025-01-10T10:57:45.367993Z"
    },
    "papermill": {
     "duration": 0.507026,
     "end_time": "2025-01-10T10:57:45.370900",
     "exception": false,
     "start_time": "2025-01-10T10:57:44.863874",
     "status": "completed"
    },
    "tags": []
   },
   "outputs": [],
   "source": [
    "DATASET_FOLDER = '/kaggle/working/Amazon_ML_Challenge_2024/student_resource/dataset'\n",
    "train = pd.read_csv(os.path.join(DATASET_FOLDER, 'train.csv'))\n",
    "# test = pd.read_csv(os.path.join(DATASET_FOLDER, 'test.csv')) # Not needed as comp is over!"
   ]
  },
  {
   "cell_type": "code",
   "execution_count": 6,
   "id": "faff2266",
   "metadata": {
    "execution": {
     "iopub.execute_input": "2025-01-10T10:57:45.378647Z",
     "iopub.status.busy": "2025-01-10T10:57:45.378263Z",
     "iopub.status.idle": "2025-01-10T10:57:46.419930Z",
     "shell.execute_reply": "2025-01-10T10:57:46.418549Z"
    },
    "papermill": {
     "duration": 1.047544,
     "end_time": "2025-01-10T10:57:46.421875",
     "exception": false,
     "start_time": "2025-01-10T10:57:45.374331",
     "status": "completed"
    },
    "tags": []
   },
   "outputs": [
    {
     "name": "stdout",
     "output_type": "stream",
     "text": [
      "Parsing successfull for file: ../dataset/sample_test_out.csv\r\n"
     ]
    }
   ],
   "source": [
    "!python sanity.py --test_filename ../dataset/sample_test.csv --output_filename ../dataset/sample_test_out.csv"
   ]
  },
  {
   "cell_type": "code",
   "execution_count": 7,
   "id": "2ac6e74e",
   "metadata": {
    "execution": {
     "iopub.execute_input": "2025-01-10T10:57:46.429920Z",
     "iopub.status.busy": "2025-01-10T10:57:46.429512Z",
     "iopub.status.idle": "2025-01-10T10:57:46.487727Z",
     "shell.execute_reply": "2025-01-10T10:57:46.486683Z"
    },
    "papermill": {
     "duration": 0.064002,
     "end_time": "2025-01-10T10:57:46.489298",
     "exception": false,
     "start_time": "2025-01-10T10:57:46.425296",
     "status": "completed"
    },
    "tags": []
   },
   "outputs": [
    {
     "data": {
      "text/plain": [
       "(100000,\n",
       "                                                image_link  group_id  \\\n",
       " 124275  https://m.media-amazon.com/images/I/71nRDdNdno...    281678   \n",
       " 177546  https://m.media-amazon.com/images/I/610wkn0vHB...    462661   \n",
       " 136769  https://m.media-amazon.com/images/I/51+wIR5l7v...    446789   \n",
       " 4147    https://m.media-amazon.com/images/I/71okdOEdBt...    483370   \n",
       " 24579   https://m.media-amazon.com/images/I/61vzPJIUbN...    630869   \n",
       " \n",
       "         entity_name     entity_value  \n",
       " 124275  item_weight        8.0 ounce  \n",
       " 177546        width  50.5 centimetre  \n",
       " 136769        width        54.0 inch  \n",
       " 4147    item_weight       11.0 ounce  \n",
       " 24579   item_weight         100 gram  )"
      ]
     },
     "execution_count": 7,
     "metadata": {},
     "output_type": "execute_result"
    }
   ],
   "source": [
    "a = train.sample(frac=0.378991)\n",
    "len(a), a.head()"
   ]
  },
  {
   "cell_type": "code",
   "execution_count": 8,
   "id": "816afa21",
   "metadata": {
    "execution": {
     "iopub.execute_input": "2025-01-10T10:57:46.497384Z",
     "iopub.status.busy": "2025-01-10T10:57:46.497077Z",
     "iopub.status.idle": "2025-01-10T10:57:46.833433Z",
     "shell.execute_reply": "2025-01-10T10:57:46.832301Z"
    },
    "papermill": {
     "duration": 0.342662,
     "end_time": "2025-01-10T10:57:46.835423",
     "exception": false,
     "start_time": "2025-01-10T10:57:46.492761",
     "status": "completed"
    },
    "tags": []
   },
   "outputs": [],
   "source": [
    "a.to_csv('/kaggle/working/100000_images')"
   ]
  },
  {
   "cell_type": "code",
   "execution_count": 9,
   "id": "884193fb",
   "metadata": {
    "execution": {
     "iopub.execute_input": "2025-01-10T10:57:46.843688Z",
     "iopub.status.busy": "2025-01-10T10:57:46.843298Z",
     "iopub.status.idle": "2025-01-10T11:05:30.839011Z",
     "shell.execute_reply": "2025-01-10T11:05:30.836930Z"
    },
    "papermill": {
     "duration": 464.002731,
     "end_time": "2025-01-10T11:05:30.841762",
     "exception": false,
     "start_time": "2025-01-10T10:57:46.839031",
     "status": "completed"
    },
    "tags": []
   },
   "outputs": [
    {
     "name": "stderr",
     "output_type": "stream",
     "text": [
      "100%|██████████| 100000/100000 [07:42<00:00, 216.06it/s]\n"
     ]
    }
   ],
   "source": [
    "from utils import download_images\n",
    "download_images(a['image_link'], '/kaggle/working/images', allow_multiprocessing=True)"
   ]
  },
  {
   "cell_type": "code",
   "execution_count": 10,
   "id": "5f80a5a6",
   "metadata": {
    "execution": {
     "iopub.execute_input": "2025-01-10T11:05:30.914693Z",
     "iopub.status.busy": "2025-01-10T11:05:30.914229Z",
     "iopub.status.idle": "2025-01-10T11:05:30.920212Z",
     "shell.execute_reply": "2025-01-10T11:05:30.918922Z"
    },
    "papermill": {
     "duration": 0.04382,
     "end_time": "2025-01-10T11:05:30.921797",
     "exception": false,
     "start_time": "2025-01-10T11:05:30.877977",
     "status": "completed"
    },
    "tags": []
   },
   "outputs": [
    {
     "name": "stdout",
     "output_type": "stream",
     "text": [
      "Done\n"
     ]
    }
   ],
   "source": [
    "print(\"Done\")"
   ]
  },
  {
   "cell_type": "code",
   "execution_count": null,
   "id": "ca48d8ed",
   "metadata": {
    "papermill": {
     "duration": 0.033856,
     "end_time": "2025-01-10T11:05:30.989905",
     "exception": false,
     "start_time": "2025-01-10T11:05:30.956049",
     "status": "completed"
    },
    "tags": []
   },
   "outputs": [],
   "source": []
  }
 ],
 "metadata": {
  "kaggle": {
   "accelerator": "none",
   "dataSources": [
    {
     "datasetId": 5688404,
     "sourceId": 9379615,
     "sourceType": "datasetVersion"
    }
   ],
   "dockerImageVersionId": 30822,
   "isGpuEnabled": false,
   "isInternetEnabled": true,
   "language": "python",
   "sourceType": "notebook"
  },
  "kernelspec": {
   "display_name": "Python 3",
   "language": "python",
   "name": "python3"
  },
  "language_info": {
   "codemirror_mode": {
    "name": "ipython",
    "version": 3
   },
   "file_extension": ".py",
   "mimetype": "text/x-python",
   "name": "python",
   "nbconvert_exporter": "python",
   "pygments_lexer": "ipython3",
   "version": "3.10.12"
  },
  "papermill": {
   "default_parameters": {},
   "duration": 472.002313,
   "end_time": "2025-01-10T11:05:31.848456",
   "environment_variables": {},
   "exception": null,
   "input_path": "__notebook__.ipynb",
   "output_path": "__notebook__.ipynb",
   "parameters": {},
   "start_time": "2025-01-10T10:57:39.846143",
   "version": "2.6.0"
  }
 },
 "nbformat": 4,
 "nbformat_minor": 5
}
